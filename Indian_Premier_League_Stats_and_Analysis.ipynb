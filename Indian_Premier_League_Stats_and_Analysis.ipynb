{
  "nbformat": 4,
  "nbformat_minor": 0,
  "metadata": {
    "colab": {
      "name": "Indian Premier League-Stats and Analysis.ipynb",
      "provenance": [],
      "collapsed_sections": [
        "4ibijBglBkEW"
      ]
    },
    "kernelspec": {
      "display_name": "Python 3",
      "language": "python",
      "name": "python3"
    },
    "language_info": {
      "codemirror_mode": {
        "name": "ipython",
        "version": 3
      },
      "file_extension": ".py",
      "mimetype": "text/x-python",
      "name": "python",
      "nbconvert_exporter": "python",
      "pygments_lexer": "ipython3",
      "version": "3.7.9"
    }
  },
  "cells": [
    {
      "cell_type": "markdown",
      "metadata": {
        "id": "YzBzp8CyBj5b"
      },
      "source": [
        "## Indian Premier League-Stats and Analysis\n",
        "\n",
        "IPL (Indian Premier League) is a yearly T20 cricket tournament that takes place in India. There are eight teams in IPL, each consisting of local and international players. The league was founded by the Board of Control for Cricket in India (BCCI) in 2008.\n",
        "\n",
        "Currently, with eight teams, each team plays each other twice in a home-and-away round-robin format in the league phase. At the conclusion of the league stage, the top four teams will qualify for the playoffs. The top two teams from the league phase will play against each other in the first Qualifying match, with the winner going straight to the IPL final and the loser getting another chance to qualify for the IPL final by playing the second Qualifying match. Meanwhile, the third and fourth place teams from league phase play against each other in an eliminator match and the winner from that match will play the loser from the first Qualifying match. The winner of the second Qualifying match will move onto the final to play the winner of the first Qualifying match in the IPL Final match, where the winner will be crowned the Indian Premier League champions.\n",
        "\n",
        "As a Cricket fan I'm very excited to have a deeper look on this IPL data set which was taken from [Kaggle.com](https://www.kaggle.com/anubhavgoel9999/ipl-dataset). With this data set I'm going to explore some basic questions like top batsman (scorer), bowler (best bowling average) etc.\n",
        "\n",
        "Write some introduction about your project here: describe the dataset, where you got it from, what you're trying to do with it, and which tools & techniques you're using. You can also mention about [the course](http://zerotopandas.com), and what you've learned from it.\n",
        "\n",
        "As a first step, let's upload our Jupyter notebook to [Jovian.ml](https://jovian.ml)."
      ]
    },
    {
      "cell_type": "code",
      "metadata": {
        "id": "ZwmBJmuSBj42"
      },
      "source": [
        "# Jovian Commit Essentials\n",
        "# Please retain and execute this cell without modifying the contents for `jovian.commit` to work\n",
        "!pip install jovian --upgrade -q\n",
        "import jovian\n",
        "jovian.utils.colab.set_colab_file_id('1qrcUVXkeQ71q3qARfS56fc7IG5CY455K')"
      ],
      "execution_count": 1,
      "outputs": []
    },
    {
      "cell_type": "code",
      "metadata": {
        "id": "nEzXkbmNBj6G"
      },
      "source": [
        "project_name = \"Indian Premier League-Stats and Analysis\" #\"IPL-Stats and Analysis\""
      ],
      "execution_count": 2,
      "outputs": []
    },
    {
      "cell_type": "code",
      "metadata": {
        "id": "SYUov8VMBj6p"
      },
      "source": [
        "!pip install jovian --upgrade -q"
      ],
      "execution_count": 3,
      "outputs": []
    },
    {
      "cell_type": "code",
      "metadata": {
        "id": "0LVWRvE6Bj7K"
      },
      "source": [
        "import jovian"
      ],
      "execution_count": 4,
      "outputs": []
    },
    {
      "cell_type": "code",
      "metadata": {
        "id": "_F-TFJjRBj7q",
        "scrolled": false,
        "outputId": "e1038313-611b-4ce5-c186-5de1f607d987",
        "colab": {
          "base_uri": "https://localhost:8080/",
          "height": 86
        }
      },
      "source": [
        "jovian.commit(project=project_name,files=['players.csv',\n",
        "                                          'deliveries.csv',\n",
        "                                          'matches.csv',\n",
        "                                          'most_runs_average.csv',\n",
        "                                          'teams.csv',\n",
        "                                          'teamwise_home_away.csv'])"
      ],
      "execution_count": 5,
      "outputs": [
        {
          "output_type": "stream",
          "text": [
            "[jovian] Detected Colab notebook...\u001b[0m\n",
            "[jovian] Uploading colab notebook to Jovian...\u001b[0m\n",
            "[jovian] Committed successfully! https://jovian.ml/santosh0236/indian-premier-league-stats-and-analysis\u001b[0m\n"
          ],
          "name": "stdout"
        },
        {
          "output_type": "execute_result",
          "data": {
            "application/vnd.google.colaboratory.intrinsic+json": {
              "type": "string"
            },
            "text/plain": [
              "'https://jovian.ml/santosh0236/indian-premier-league-stats-and-analysis'"
            ]
          },
          "metadata": {
            "tags": []
          },
          "execution_count": 5
        }
      ]
    },
    {
      "cell_type": "markdown",
      "metadata": {
        "id": "g40tb4MSBj8Q"
      },
      "source": [
        "## Data Preparation and Cleaning"
      ]
    },
    {
      "cell_type": "markdown",
      "metadata": {
        "id": "PZNnQYuQTO-o"
      },
      "source": [
        "Importing Python libraries\n",
        "\n",
        "numpy - Brings the computational power of languages like C and Fortran to Python\n",
        "\n",
        "pandas - Easy to use data analysis tool built on top of python\n",
        "\n",
        "matplotlib - Comprehensive library for creating visualizations in python\n",
        "\n",
        "seaborn - Data visualization based on matplotlib to make the plots prettier\n",
        "\n",
        "jovian - Platform for sharing and collaborating on data science projects\n",
        "\n",
        "First we import these libraries. "
      ]
    },
    {
      "cell_type": "code",
      "metadata": {
        "id": "9H5zCtlTBj9h",
        "outputId": "abce56b4-8d2a-41e7-f61a-640b6e88e0b4",
        "colab": {
          "base_uri": "https://localhost:8080/",
          "height": 71
        }
      },
      "source": [
        "import pandas as pd\n",
        "import numpy as np\n",
        "import seaborn as sns\n",
        "import seaborn as sns\n",
        "import matplotlib\n",
        "import matplotlib.pyplot as plt\n",
        "%matplotlib inline"
      ],
      "execution_count": 6,
      "outputs": [
        {
          "output_type": "stream",
          "text": [
            "/usr/local/lib/python3.6/dist-packages/statsmodels/tools/_testing.py:19: FutureWarning: pandas.util.testing is deprecated. Use the functions in the public API at pandas.testing instead.\n",
            "  import pandas.util.testing as tm\n"
          ],
          "name": "stderr"
        }
      ]
    },
    {
      "cell_type": "markdown",
      "metadata": {
        "id": "1uXoAralTO-2"
      },
      "source": [
        "Loading the data from CSV (downloaded from) [kaggle.com](https://www.kaggle.com/ramjidoolla/ipl-data-set) file into a Pandas Dataframe."
      ]
    },
    {
      "cell_type": "code",
      "metadata": {
        "id": "_JohvDSDBj8h"
      },
      "source": [
        "players_df            = pd.read_csv('players.csv')\n",
        "deliveries_df         = pd.read_csv('deliveries.csv')\n",
        "matches_df            = pd.read_csv('matches.csv')\n",
        "most_runs_average_df  = pd.read_csv('most_runs_average.csv')\n",
        "teams_df              = pd.read_csv('teams.csv')\n",
        "teamwise_home_away_df = pd.read_csv('teamwise_home_away.csv')"
      ],
      "execution_count": 7,
      "outputs": []
    },
    {
      "cell_type": "markdown",
      "metadata": {
        "id": "vAq6zMlzTO_I"
      },
      "source": [
        "In the dataset I found that Delhi Daredevils (DD) has changed their name and partipating in IPL from 2019 with name Delhi Capitals (DC). So I have merged(consolidate) the data of DD into DC. For merging the data I've consider only for home_wins, away_wins, home_matches, away_matches. For percentage related calculation I did after merging the data of DD and DC. \n",
        "        First I filter the data for DD and DC and kept into a variable **teamwise_home_away_dc_dd_df**."
      ]
    },
    {
      "cell_type": "code",
      "metadata": {
        "scrolled": false,
        "id": "3zUDPrWDTO_L",
        "outputId": "38f06fff-4040-4d1f-fc4f-d49db01d09b6",
        "colab": {
          "base_uri": "https://localhost:8080/",
          "height": 483
        }
      },
      "source": [
        "teamwise_home_away_df"
      ],
      "execution_count": 8,
      "outputs": [
        {
          "output_type": "execute_result",
          "data": {
            "text/html": [
              "<div>\n",
              "<style scoped>\n",
              "    .dataframe tbody tr th:only-of-type {\n",
              "        vertical-align: middle;\n",
              "    }\n",
              "\n",
              "    .dataframe tbody tr th {\n",
              "        vertical-align: top;\n",
              "    }\n",
              "\n",
              "    .dataframe thead th {\n",
              "        text-align: right;\n",
              "    }\n",
              "</style>\n",
              "<table border=\"1\" class=\"dataframe\">\n",
              "  <thead>\n",
              "    <tr style=\"text-align: right;\">\n",
              "      <th></th>\n",
              "      <th>team</th>\n",
              "      <th>home_wins</th>\n",
              "      <th>away_wins</th>\n",
              "      <th>home_matches</th>\n",
              "      <th>away_matches</th>\n",
              "      <th>home_win_percentage</th>\n",
              "      <th>away_win_percentage</th>\n",
              "    </tr>\n",
              "  </thead>\n",
              "  <tbody>\n",
              "    <tr>\n",
              "      <th>0</th>\n",
              "      <td>Rising Pune Supergiant</td>\n",
              "      <td>5</td>\n",
              "      <td>5</td>\n",
              "      <td>8</td>\n",
              "      <td>8</td>\n",
              "      <td>62.500000</td>\n",
              "      <td>62.500000</td>\n",
              "    </tr>\n",
              "    <tr>\n",
              "      <th>1</th>\n",
              "      <td>Mumbai Indians</td>\n",
              "      <td>58</td>\n",
              "      <td>51</td>\n",
              "      <td>101</td>\n",
              "      <td>86</td>\n",
              "      <td>57.425743</td>\n",
              "      <td>59.302326</td>\n",
              "    </tr>\n",
              "    <tr>\n",
              "      <th>2</th>\n",
              "      <td>Chennai Super Kings</td>\n",
              "      <td>51</td>\n",
              "      <td>49</td>\n",
              "      <td>89</td>\n",
              "      <td>75</td>\n",
              "      <td>57.303371</td>\n",
              "      <td>65.333333</td>\n",
              "    </tr>\n",
              "    <tr>\n",
              "      <th>3</th>\n",
              "      <td>Delhi Capitals</td>\n",
              "      <td>3</td>\n",
              "      <td>7</td>\n",
              "      <td>6</td>\n",
              "      <td>10</td>\n",
              "      <td>50.000000</td>\n",
              "      <td>70.000000</td>\n",
              "    </tr>\n",
              "    <tr>\n",
              "      <th>4</th>\n",
              "      <td>Sunrisers Hyderabad</td>\n",
              "      <td>30</td>\n",
              "      <td>28</td>\n",
              "      <td>63</td>\n",
              "      <td>45</td>\n",
              "      <td>47.619048</td>\n",
              "      <td>62.222222</td>\n",
              "    </tr>\n",
              "    <tr>\n",
              "      <th>5</th>\n",
              "      <td>Rajasthan Royals</td>\n",
              "      <td>29</td>\n",
              "      <td>46</td>\n",
              "      <td>67</td>\n",
              "      <td>80</td>\n",
              "      <td>43.283582</td>\n",
              "      <td>57.500000</td>\n",
              "    </tr>\n",
              "    <tr>\n",
              "      <th>6</th>\n",
              "      <td>Deccan Chargers</td>\n",
              "      <td>18</td>\n",
              "      <td>11</td>\n",
              "      <td>43</td>\n",
              "      <td>32</td>\n",
              "      <td>41.860465</td>\n",
              "      <td>34.375000</td>\n",
              "    </tr>\n",
              "    <tr>\n",
              "      <th>7</th>\n",
              "      <td>Kings XI Punjab</td>\n",
              "      <td>38</td>\n",
              "      <td>44</td>\n",
              "      <td>91</td>\n",
              "      <td>85</td>\n",
              "      <td>41.758242</td>\n",
              "      <td>51.764706</td>\n",
              "    </tr>\n",
              "    <tr>\n",
              "      <th>8</th>\n",
              "      <td>Royal Challengers Bangalore</td>\n",
              "      <td>35</td>\n",
              "      <td>49</td>\n",
              "      <td>85</td>\n",
              "      <td>95</td>\n",
              "      <td>41.176471</td>\n",
              "      <td>51.578947</td>\n",
              "    </tr>\n",
              "    <tr>\n",
              "      <th>9</th>\n",
              "      <td>Kolkata Knight Riders</td>\n",
              "      <td>34</td>\n",
              "      <td>58</td>\n",
              "      <td>83</td>\n",
              "      <td>95</td>\n",
              "      <td>40.963855</td>\n",
              "      <td>61.052632</td>\n",
              "    </tr>\n",
              "    <tr>\n",
              "      <th>10</th>\n",
              "      <td>Delhi Daredevils</td>\n",
              "      <td>25</td>\n",
              "      <td>42</td>\n",
              "      <td>72</td>\n",
              "      <td>89</td>\n",
              "      <td>34.722222</td>\n",
              "      <td>47.191011</td>\n",
              "    </tr>\n",
              "    <tr>\n",
              "      <th>11</th>\n",
              "      <td>Pune Warriors</td>\n",
              "      <td>6</td>\n",
              "      <td>6</td>\n",
              "      <td>20</td>\n",
              "      <td>26</td>\n",
              "      <td>30.000000</td>\n",
              "      <td>23.076923</td>\n",
              "    </tr>\n",
              "    <tr>\n",
              "      <th>12</th>\n",
              "      <td>Kochi Tuskers Kerala</td>\n",
              "      <td>2</td>\n",
              "      <td>4</td>\n",
              "      <td>7</td>\n",
              "      <td>7</td>\n",
              "      <td>28.571429</td>\n",
              "      <td>57.142857</td>\n",
              "    </tr>\n",
              "    <tr>\n",
              "      <th>13</th>\n",
              "      <td>Gujarat Lions</td>\n",
              "      <td>1</td>\n",
              "      <td>12</td>\n",
              "      <td>14</td>\n",
              "      <td>16</td>\n",
              "      <td>7.142857</td>\n",
              "      <td>75.000000</td>\n",
              "    </tr>\n",
              "  </tbody>\n",
              "</table>\n",
              "</div>"
            ],
            "text/plain": [
              "                           team  ...  away_win_percentage\n",
              "0        Rising Pune Supergiant  ...            62.500000\n",
              "1                Mumbai Indians  ...            59.302326\n",
              "2           Chennai Super Kings  ...            65.333333\n",
              "3                Delhi Capitals  ...            70.000000\n",
              "4           Sunrisers Hyderabad  ...            62.222222\n",
              "5              Rajasthan Royals  ...            57.500000\n",
              "6               Deccan Chargers  ...            34.375000\n",
              "7               Kings XI Punjab  ...            51.764706\n",
              "8   Royal Challengers Bangalore  ...            51.578947\n",
              "9         Kolkata Knight Riders  ...            61.052632\n",
              "10             Delhi Daredevils  ...            47.191011\n",
              "11                Pune Warriors  ...            23.076923\n",
              "12         Kochi Tuskers Kerala  ...            57.142857\n",
              "13                Gujarat Lions  ...            75.000000\n",
              "\n",
              "[14 rows x 7 columns]"
            ]
          },
          "metadata": {
            "tags": []
          },
          "execution_count": 8
        }
      ]
    },
    {
      "cell_type": "code",
      "metadata": {
        "scrolled": false,
        "id": "W4eUisFGTO_T",
        "outputId": "88891b47-d8eb-4dcd-8c9f-888b8920f1eb",
        "colab": {
          "base_uri": "https://localhost:8080/",
          "height": 111
        }
      },
      "source": [
        "teamwise_home_away_dc_dd_df=teamwise_home_away_df.loc[(teamwise_home_away_df['team'] == 'Delhi Daredevils')|\n",
        "                                                      (teamwise_home_away_df['team'] =='Delhi Capitals')]\n",
        "teamwise_home_away_dc_dd_df"
      ],
      "execution_count": 9,
      "outputs": [
        {
          "output_type": "execute_result",
          "data": {
            "text/html": [
              "<div>\n",
              "<style scoped>\n",
              "    .dataframe tbody tr th:only-of-type {\n",
              "        vertical-align: middle;\n",
              "    }\n",
              "\n",
              "    .dataframe tbody tr th {\n",
              "        vertical-align: top;\n",
              "    }\n",
              "\n",
              "    .dataframe thead th {\n",
              "        text-align: right;\n",
              "    }\n",
              "</style>\n",
              "<table border=\"1\" class=\"dataframe\">\n",
              "  <thead>\n",
              "    <tr style=\"text-align: right;\">\n",
              "      <th></th>\n",
              "      <th>team</th>\n",
              "      <th>home_wins</th>\n",
              "      <th>away_wins</th>\n",
              "      <th>home_matches</th>\n",
              "      <th>away_matches</th>\n",
              "      <th>home_win_percentage</th>\n",
              "      <th>away_win_percentage</th>\n",
              "    </tr>\n",
              "  </thead>\n",
              "  <tbody>\n",
              "    <tr>\n",
              "      <th>3</th>\n",
              "      <td>Delhi Capitals</td>\n",
              "      <td>3</td>\n",
              "      <td>7</td>\n",
              "      <td>6</td>\n",
              "      <td>10</td>\n",
              "      <td>50.000000</td>\n",
              "      <td>70.000000</td>\n",
              "    </tr>\n",
              "    <tr>\n",
              "      <th>10</th>\n",
              "      <td>Delhi Daredevils</td>\n",
              "      <td>25</td>\n",
              "      <td>42</td>\n",
              "      <td>72</td>\n",
              "      <td>89</td>\n",
              "      <td>34.722222</td>\n",
              "      <td>47.191011</td>\n",
              "    </tr>\n",
              "  </tbody>\n",
              "</table>\n",
              "</div>"
            ],
            "text/plain": [
              "                team  home_wins  ...  home_win_percentage  away_win_percentage\n",
              "3     Delhi Capitals          3  ...            50.000000            70.000000\n",
              "10  Delhi Daredevils         25  ...            34.722222            47.191011\n",
              "\n",
              "[2 rows x 7 columns]"
            ]
          },
          "metadata": {
            "tags": []
          },
          "execution_count": 9
        }
      ]
    },
    {
      "cell_type": "code",
      "metadata": {
        "id": "9tKoPoa0TO_f",
        "outputId": "f5e21209-7f28-4cb6-bc05-b64b60bbee8b",
        "colab": {
          "base_uri": "https://localhost:8080/",
          "height": 111
        }
      },
      "source": [
        "teamwise_home_away_srh_df=teamwise_home_away_df.loc[(teamwise_home_away_df['team'] == 'Sunrisers Hyderabad')|\n",
        "                                                      (teamwise_home_away_df['team'] =='Deccan Chargers')]\n",
        "teamwise_home_away_srh_df"
      ],
      "execution_count": 10,
      "outputs": [
        {
          "output_type": "execute_result",
          "data": {
            "text/html": [
              "<div>\n",
              "<style scoped>\n",
              "    .dataframe tbody tr th:only-of-type {\n",
              "        vertical-align: middle;\n",
              "    }\n",
              "\n",
              "    .dataframe tbody tr th {\n",
              "        vertical-align: top;\n",
              "    }\n",
              "\n",
              "    .dataframe thead th {\n",
              "        text-align: right;\n",
              "    }\n",
              "</style>\n",
              "<table border=\"1\" class=\"dataframe\">\n",
              "  <thead>\n",
              "    <tr style=\"text-align: right;\">\n",
              "      <th></th>\n",
              "      <th>team</th>\n",
              "      <th>home_wins</th>\n",
              "      <th>away_wins</th>\n",
              "      <th>home_matches</th>\n",
              "      <th>away_matches</th>\n",
              "      <th>home_win_percentage</th>\n",
              "      <th>away_win_percentage</th>\n",
              "    </tr>\n",
              "  </thead>\n",
              "  <tbody>\n",
              "    <tr>\n",
              "      <th>4</th>\n",
              "      <td>Sunrisers Hyderabad</td>\n",
              "      <td>30</td>\n",
              "      <td>28</td>\n",
              "      <td>63</td>\n",
              "      <td>45</td>\n",
              "      <td>47.619048</td>\n",
              "      <td>62.222222</td>\n",
              "    </tr>\n",
              "    <tr>\n",
              "      <th>6</th>\n",
              "      <td>Deccan Chargers</td>\n",
              "      <td>18</td>\n",
              "      <td>11</td>\n",
              "      <td>43</td>\n",
              "      <td>32</td>\n",
              "      <td>41.860465</td>\n",
              "      <td>34.375000</td>\n",
              "    </tr>\n",
              "  </tbody>\n",
              "</table>\n",
              "</div>"
            ],
            "text/plain": [
              "                  team  home_wins  ...  home_win_percentage  away_win_percentage\n",
              "4  Sunrisers Hyderabad         30  ...            47.619048            62.222222\n",
              "6      Deccan Chargers         18  ...            41.860465            34.375000\n",
              "\n",
              "[2 rows x 7 columns]"
            ]
          },
          "metadata": {
            "tags": []
          },
          "execution_count": 10
        }
      ]
    },
    {
      "cell_type": "markdown",
      "metadata": {
        "id": "hq2huv0dTO_o"
      },
      "source": [
        "Now drop the records for DD and DC from original dataframe **teamwise_home_away_df**.  "
      ]
    },
    {
      "cell_type": "code",
      "metadata": {
        "id": "MpMRPjhvTO_p"
      },
      "source": [
        "teamwise_home_away_df.drop (teamwise_home_away_df[teamwise_home_away_df.team == \"Delhi Capitals\"].index, inplace =True)\n",
        "teamwise_home_away_df.drop (teamwise_home_away_df[teamwise_home_away_df.team == \"Delhi Daredevils\"].index, inplace =True)\n",
        "teamwise_home_away_df.drop (teamwise_home_away_df[teamwise_home_away_df.team == \"Sunrisers Hyderabad\"].index, inplace =True)\n",
        "teamwise_home_away_df.drop (teamwise_home_away_df[teamwise_home_away_df.team == \"Deccan Chargers\"].index, inplace =True)"
      ],
      "execution_count": 11,
      "outputs": []
    },
    {
      "cell_type": "code",
      "metadata": {
        "id": "Yu2U5K2wTO_x",
        "outputId": "35784be3-3c23-48b8-bbc2-571418471036",
        "colab": {
          "base_uri": "https://localhost:8080/",
          "height": 359
        }
      },
      "source": [
        "teamwise_home_away_df"
      ],
      "execution_count": 12,
      "outputs": [
        {
          "output_type": "execute_result",
          "data": {
            "text/html": [
              "<div>\n",
              "<style scoped>\n",
              "    .dataframe tbody tr th:only-of-type {\n",
              "        vertical-align: middle;\n",
              "    }\n",
              "\n",
              "    .dataframe tbody tr th {\n",
              "        vertical-align: top;\n",
              "    }\n",
              "\n",
              "    .dataframe thead th {\n",
              "        text-align: right;\n",
              "    }\n",
              "</style>\n",
              "<table border=\"1\" class=\"dataframe\">\n",
              "  <thead>\n",
              "    <tr style=\"text-align: right;\">\n",
              "      <th></th>\n",
              "      <th>team</th>\n",
              "      <th>home_wins</th>\n",
              "      <th>away_wins</th>\n",
              "      <th>home_matches</th>\n",
              "      <th>away_matches</th>\n",
              "      <th>home_win_percentage</th>\n",
              "      <th>away_win_percentage</th>\n",
              "    </tr>\n",
              "  </thead>\n",
              "  <tbody>\n",
              "    <tr>\n",
              "      <th>0</th>\n",
              "      <td>Rising Pune Supergiant</td>\n",
              "      <td>5</td>\n",
              "      <td>5</td>\n",
              "      <td>8</td>\n",
              "      <td>8</td>\n",
              "      <td>62.500000</td>\n",
              "      <td>62.500000</td>\n",
              "    </tr>\n",
              "    <tr>\n",
              "      <th>1</th>\n",
              "      <td>Mumbai Indians</td>\n",
              "      <td>58</td>\n",
              "      <td>51</td>\n",
              "      <td>101</td>\n",
              "      <td>86</td>\n",
              "      <td>57.425743</td>\n",
              "      <td>59.302326</td>\n",
              "    </tr>\n",
              "    <tr>\n",
              "      <th>2</th>\n",
              "      <td>Chennai Super Kings</td>\n",
              "      <td>51</td>\n",
              "      <td>49</td>\n",
              "      <td>89</td>\n",
              "      <td>75</td>\n",
              "      <td>57.303371</td>\n",
              "      <td>65.333333</td>\n",
              "    </tr>\n",
              "    <tr>\n",
              "      <th>5</th>\n",
              "      <td>Rajasthan Royals</td>\n",
              "      <td>29</td>\n",
              "      <td>46</td>\n",
              "      <td>67</td>\n",
              "      <td>80</td>\n",
              "      <td>43.283582</td>\n",
              "      <td>57.500000</td>\n",
              "    </tr>\n",
              "    <tr>\n",
              "      <th>7</th>\n",
              "      <td>Kings XI Punjab</td>\n",
              "      <td>38</td>\n",
              "      <td>44</td>\n",
              "      <td>91</td>\n",
              "      <td>85</td>\n",
              "      <td>41.758242</td>\n",
              "      <td>51.764706</td>\n",
              "    </tr>\n",
              "    <tr>\n",
              "      <th>8</th>\n",
              "      <td>Royal Challengers Bangalore</td>\n",
              "      <td>35</td>\n",
              "      <td>49</td>\n",
              "      <td>85</td>\n",
              "      <td>95</td>\n",
              "      <td>41.176471</td>\n",
              "      <td>51.578947</td>\n",
              "    </tr>\n",
              "    <tr>\n",
              "      <th>9</th>\n",
              "      <td>Kolkata Knight Riders</td>\n",
              "      <td>34</td>\n",
              "      <td>58</td>\n",
              "      <td>83</td>\n",
              "      <td>95</td>\n",
              "      <td>40.963855</td>\n",
              "      <td>61.052632</td>\n",
              "    </tr>\n",
              "    <tr>\n",
              "      <th>11</th>\n",
              "      <td>Pune Warriors</td>\n",
              "      <td>6</td>\n",
              "      <td>6</td>\n",
              "      <td>20</td>\n",
              "      <td>26</td>\n",
              "      <td>30.000000</td>\n",
              "      <td>23.076923</td>\n",
              "    </tr>\n",
              "    <tr>\n",
              "      <th>12</th>\n",
              "      <td>Kochi Tuskers Kerala</td>\n",
              "      <td>2</td>\n",
              "      <td>4</td>\n",
              "      <td>7</td>\n",
              "      <td>7</td>\n",
              "      <td>28.571429</td>\n",
              "      <td>57.142857</td>\n",
              "    </tr>\n",
              "    <tr>\n",
              "      <th>13</th>\n",
              "      <td>Gujarat Lions</td>\n",
              "      <td>1</td>\n",
              "      <td>12</td>\n",
              "      <td>14</td>\n",
              "      <td>16</td>\n",
              "      <td>7.142857</td>\n",
              "      <td>75.000000</td>\n",
              "    </tr>\n",
              "  </tbody>\n",
              "</table>\n",
              "</div>"
            ],
            "text/plain": [
              "                           team  ...  away_win_percentage\n",
              "0        Rising Pune Supergiant  ...            62.500000\n",
              "1                Mumbai Indians  ...            59.302326\n",
              "2           Chennai Super Kings  ...            65.333333\n",
              "5              Rajasthan Royals  ...            57.500000\n",
              "7               Kings XI Punjab  ...            51.764706\n",
              "8   Royal Challengers Bangalore  ...            51.578947\n",
              "9         Kolkata Knight Riders  ...            61.052632\n",
              "11                Pune Warriors  ...            23.076923\n",
              "12         Kochi Tuskers Kerala  ...            57.142857\n",
              "13                Gujarat Lions  ...            75.000000\n",
              "\n",
              "[10 rows x 7 columns]"
            ]
          },
          "metadata": {
            "tags": []
          },
          "execution_count": 12
        }
      ]
    },
    {
      "cell_type": "code",
      "metadata": {
        "id": "CBNG2KkOTO_2"
      },
      "source": [
        "teamwise_home_away_df = teamwise_home_away_df.set_index('team')"
      ],
      "execution_count": 13,
      "outputs": []
    },
    {
      "cell_type": "markdown",
      "metadata": {
        "id": "QD9oIqVYTPAB"
      },
      "source": [
        "Now drop the records for DD and DC from original dataframe **teamwise_home_away_df**. And merged the data of DD and DC into variable **sum_dd_dc** then calculate the **home_win_percentage** and **away_win_percentage**"
      ]
    },
    {
      "cell_type": "code",
      "metadata": {
        "id": "acDUCj43TPAD",
        "outputId": "0636271a-53e0-434e-e126-d1320868a42a",
        "colab": {
          "base_uri": "https://localhost:8080/",
          "height": 80
        }
      },
      "source": [
        "sum_dd_dc = teamwise_home_away_dc_dd_df.loc[[3,10]].sum().to_frame().transpose() \n",
        "sum_dd_dc['home_win_percentage'] =  sum_dd_dc['home_wins'] * 100 / sum_dd_dc['home_matches']\n",
        "sum_dd_dc['away_win_percentage'] =  sum_dd_dc['away_wins'] * 100 / sum_dd_dc['away_matches']\n",
        "sum_dd_dc"
      ],
      "execution_count": 14,
      "outputs": [
        {
          "output_type": "execute_result",
          "data": {
            "text/html": [
              "<div>\n",
              "<style scoped>\n",
              "    .dataframe tbody tr th:only-of-type {\n",
              "        vertical-align: middle;\n",
              "    }\n",
              "\n",
              "    .dataframe tbody tr th {\n",
              "        vertical-align: top;\n",
              "    }\n",
              "\n",
              "    .dataframe thead th {\n",
              "        text-align: right;\n",
              "    }\n",
              "</style>\n",
              "<table border=\"1\" class=\"dataframe\">\n",
              "  <thead>\n",
              "    <tr style=\"text-align: right;\">\n",
              "      <th></th>\n",
              "      <th>team</th>\n",
              "      <th>home_wins</th>\n",
              "      <th>away_wins</th>\n",
              "      <th>home_matches</th>\n",
              "      <th>away_matches</th>\n",
              "      <th>home_win_percentage</th>\n",
              "      <th>away_win_percentage</th>\n",
              "    </tr>\n",
              "  </thead>\n",
              "  <tbody>\n",
              "    <tr>\n",
              "      <th>0</th>\n",
              "      <td>Delhi CapitalsDelhi Daredevils</td>\n",
              "      <td>28</td>\n",
              "      <td>49</td>\n",
              "      <td>78</td>\n",
              "      <td>99</td>\n",
              "      <td>35.8974</td>\n",
              "      <td>49.4949</td>\n",
              "    </tr>\n",
              "  </tbody>\n",
              "</table>\n",
              "</div>"
            ],
            "text/plain": [
              "                             team  ... away_win_percentage\n",
              "0  Delhi CapitalsDelhi Daredevils  ...             49.4949\n",
              "\n",
              "[1 rows x 7 columns]"
            ]
          },
          "metadata": {
            "tags": []
          },
          "execution_count": 14
        }
      ]
    },
    {
      "cell_type": "code",
      "metadata": {
        "id": "jrtxh37STPAI",
        "outputId": "194319a0-a73a-4599-cd18-2350d9902b30",
        "colab": {
          "base_uri": "https://localhost:8080/",
          "height": 80
        }
      },
      "source": [
        "sum_srh = teamwise_home_away_srh_df.loc[[4,6]].sum().to_frame().transpose() \n",
        "sum_srh['home_win_percentage'] =  sum_srh['home_wins'] * 100 / sum_srh['home_matches']\n",
        "sum_srh['away_win_percentage'] =  sum_srh['away_wins'] * 100 / sum_srh['away_matches']\n",
        "sum_srh"
      ],
      "execution_count": 15,
      "outputs": [
        {
          "output_type": "execute_result",
          "data": {
            "text/html": [
              "<div>\n",
              "<style scoped>\n",
              "    .dataframe tbody tr th:only-of-type {\n",
              "        vertical-align: middle;\n",
              "    }\n",
              "\n",
              "    .dataframe tbody tr th {\n",
              "        vertical-align: top;\n",
              "    }\n",
              "\n",
              "    .dataframe thead th {\n",
              "        text-align: right;\n",
              "    }\n",
              "</style>\n",
              "<table border=\"1\" class=\"dataframe\">\n",
              "  <thead>\n",
              "    <tr style=\"text-align: right;\">\n",
              "      <th></th>\n",
              "      <th>team</th>\n",
              "      <th>home_wins</th>\n",
              "      <th>away_wins</th>\n",
              "      <th>home_matches</th>\n",
              "      <th>away_matches</th>\n",
              "      <th>home_win_percentage</th>\n",
              "      <th>away_win_percentage</th>\n",
              "    </tr>\n",
              "  </thead>\n",
              "  <tbody>\n",
              "    <tr>\n",
              "      <th>0</th>\n",
              "      <td>Sunrisers HyderabadDeccan Chargers</td>\n",
              "      <td>48</td>\n",
              "      <td>39</td>\n",
              "      <td>106</td>\n",
              "      <td>77</td>\n",
              "      <td>45.283</td>\n",
              "      <td>50.6494</td>\n",
              "    </tr>\n",
              "  </tbody>\n",
              "</table>\n",
              "</div>"
            ],
            "text/plain": [
              "                                 team  ... away_win_percentage\n",
              "0  Sunrisers HyderabadDeccan Chargers  ...             50.6494\n",
              "\n",
              "[1 rows x 7 columns]"
            ]
          },
          "metadata": {
            "tags": []
          },
          "execution_count": 15
        }
      ]
    },
    {
      "cell_type": "markdown",
      "metadata": {
        "id": "C4PS_L8aTPAO"
      },
      "source": [
        "Now set the index of column **team** then rename the data of the variable **sum_dd_dc**"
      ]
    },
    {
      "cell_type": "code",
      "metadata": {
        "id": "9urjPEnrTPAP",
        "outputId": "22dcb0ee-c0d3-4e40-d0b0-2092e5f68869",
        "colab": {
          "base_uri": "https://localhost:8080/",
          "height": 111
        }
      },
      "source": [
        "sum_dd_dc = sum_dd_dc.set_index('team')\n",
        "sum_dd_dc= sum_dd_dc.rename(index={'Delhi CapitalsDelhi Daredevils': 'Delhi Capitals'})\n",
        "sum_dd_dc"
      ],
      "execution_count": 16,
      "outputs": [
        {
          "output_type": "execute_result",
          "data": {
            "text/html": [
              "<div>\n",
              "<style scoped>\n",
              "    .dataframe tbody tr th:only-of-type {\n",
              "        vertical-align: middle;\n",
              "    }\n",
              "\n",
              "    .dataframe tbody tr th {\n",
              "        vertical-align: top;\n",
              "    }\n",
              "\n",
              "    .dataframe thead th {\n",
              "        text-align: right;\n",
              "    }\n",
              "</style>\n",
              "<table border=\"1\" class=\"dataframe\">\n",
              "  <thead>\n",
              "    <tr style=\"text-align: right;\">\n",
              "      <th></th>\n",
              "      <th>home_wins</th>\n",
              "      <th>away_wins</th>\n",
              "      <th>home_matches</th>\n",
              "      <th>away_matches</th>\n",
              "      <th>home_win_percentage</th>\n",
              "      <th>away_win_percentage</th>\n",
              "    </tr>\n",
              "    <tr>\n",
              "      <th>team</th>\n",
              "      <th></th>\n",
              "      <th></th>\n",
              "      <th></th>\n",
              "      <th></th>\n",
              "      <th></th>\n",
              "      <th></th>\n",
              "    </tr>\n",
              "  </thead>\n",
              "  <tbody>\n",
              "    <tr>\n",
              "      <th>Delhi Capitals</th>\n",
              "      <td>28</td>\n",
              "      <td>49</td>\n",
              "      <td>78</td>\n",
              "      <td>99</td>\n",
              "      <td>35.8974</td>\n",
              "      <td>49.4949</td>\n",
              "    </tr>\n",
              "  </tbody>\n",
              "</table>\n",
              "</div>"
            ],
            "text/plain": [
              "               home_wins away_wins  ... home_win_percentage away_win_percentage\n",
              "team                                ...                                        \n",
              "Delhi Capitals        28        49  ...             35.8974             49.4949\n",
              "\n",
              "[1 rows x 6 columns]"
            ]
          },
          "metadata": {
            "tags": []
          },
          "execution_count": 16
        }
      ]
    },
    {
      "cell_type": "code",
      "metadata": {
        "id": "kJZzz4OUTPAX",
        "outputId": "0b38756a-054a-40f2-916d-5820c3a6e833",
        "colab": {
          "base_uri": "https://localhost:8080/",
          "height": 111
        }
      },
      "source": [
        "sum_srh = sum_srh.set_index('team')\n",
        "sum_srh= sum_srh.rename(index={'Sunrisers HyderabadDeccan Chargers': 'Sunrisers Hyderabad'})\n",
        "sum_srh"
      ],
      "execution_count": 17,
      "outputs": [
        {
          "output_type": "execute_result",
          "data": {
            "text/html": [
              "<div>\n",
              "<style scoped>\n",
              "    .dataframe tbody tr th:only-of-type {\n",
              "        vertical-align: middle;\n",
              "    }\n",
              "\n",
              "    .dataframe tbody tr th {\n",
              "        vertical-align: top;\n",
              "    }\n",
              "\n",
              "    .dataframe thead th {\n",
              "        text-align: right;\n",
              "    }\n",
              "</style>\n",
              "<table border=\"1\" class=\"dataframe\">\n",
              "  <thead>\n",
              "    <tr style=\"text-align: right;\">\n",
              "      <th></th>\n",
              "      <th>home_wins</th>\n",
              "      <th>away_wins</th>\n",
              "      <th>home_matches</th>\n",
              "      <th>away_matches</th>\n",
              "      <th>home_win_percentage</th>\n",
              "      <th>away_win_percentage</th>\n",
              "    </tr>\n",
              "    <tr>\n",
              "      <th>team</th>\n",
              "      <th></th>\n",
              "      <th></th>\n",
              "      <th></th>\n",
              "      <th></th>\n",
              "      <th></th>\n",
              "      <th></th>\n",
              "    </tr>\n",
              "  </thead>\n",
              "  <tbody>\n",
              "    <tr>\n",
              "      <th>Sunrisers Hyderabad</th>\n",
              "      <td>48</td>\n",
              "      <td>39</td>\n",
              "      <td>106</td>\n",
              "      <td>77</td>\n",
              "      <td>45.283</td>\n",
              "      <td>50.6494</td>\n",
              "    </tr>\n",
              "  </tbody>\n",
              "</table>\n",
              "</div>"
            ],
            "text/plain": [
              "                    home_wins away_wins  ... home_win_percentage away_win_percentage\n",
              "team                                     ...                                        \n",
              "Sunrisers Hyderabad        48        39  ...              45.283             50.6494\n",
              "\n",
              "[1 rows x 6 columns]"
            ]
          },
          "metadata": {
            "tags": []
          },
          "execution_count": 17
        }
      ]
    },
    {
      "cell_type": "markdown",
      "metadata": {
        "id": "aAzIeUIuTPA8"
      },
      "source": [
        "Now merge the data into **teamwise_home_away_with_dd_df** of two variable **teamwise_home_away_df** and **sum_dd_dc**."
      ]
    },
    {
      "cell_type": "code",
      "metadata": {
        "id": "j0C4MZOfTPBB",
        "outputId": "f2408c88-a623-47e1-dab3-95e11136f397",
        "colab": {
          "base_uri": "https://localhost:8080/",
          "height": 452
        }
      },
      "source": [
        "teamwise_home_away_with_dc_srh_df = [teamwise_home_away_df,sum_dd_dc,sum_srh]\n",
        "teamwise_home_away_merge_df = pd.concat(teamwise_home_away_with_dc_srh_df)\n",
        "teamwise_home_away_merge_df"
      ],
      "execution_count": 18,
      "outputs": [
        {
          "output_type": "execute_result",
          "data": {
            "text/html": [
              "<div>\n",
              "<style scoped>\n",
              "    .dataframe tbody tr th:only-of-type {\n",
              "        vertical-align: middle;\n",
              "    }\n",
              "\n",
              "    .dataframe tbody tr th {\n",
              "        vertical-align: top;\n",
              "    }\n",
              "\n",
              "    .dataframe thead th {\n",
              "        text-align: right;\n",
              "    }\n",
              "</style>\n",
              "<table border=\"1\" class=\"dataframe\">\n",
              "  <thead>\n",
              "    <tr style=\"text-align: right;\">\n",
              "      <th></th>\n",
              "      <th>home_wins</th>\n",
              "      <th>away_wins</th>\n",
              "      <th>home_matches</th>\n",
              "      <th>away_matches</th>\n",
              "      <th>home_win_percentage</th>\n",
              "      <th>away_win_percentage</th>\n",
              "    </tr>\n",
              "    <tr>\n",
              "      <th>team</th>\n",
              "      <th></th>\n",
              "      <th></th>\n",
              "      <th></th>\n",
              "      <th></th>\n",
              "      <th></th>\n",
              "      <th></th>\n",
              "    </tr>\n",
              "  </thead>\n",
              "  <tbody>\n",
              "    <tr>\n",
              "      <th>Rising Pune Supergiant</th>\n",
              "      <td>5</td>\n",
              "      <td>5</td>\n",
              "      <td>8</td>\n",
              "      <td>8</td>\n",
              "      <td>62.5</td>\n",
              "      <td>62.5</td>\n",
              "    </tr>\n",
              "    <tr>\n",
              "      <th>Mumbai Indians</th>\n",
              "      <td>58</td>\n",
              "      <td>51</td>\n",
              "      <td>101</td>\n",
              "      <td>86</td>\n",
              "      <td>57.4257</td>\n",
              "      <td>59.3023</td>\n",
              "    </tr>\n",
              "    <tr>\n",
              "      <th>Chennai Super Kings</th>\n",
              "      <td>51</td>\n",
              "      <td>49</td>\n",
              "      <td>89</td>\n",
              "      <td>75</td>\n",
              "      <td>57.3034</td>\n",
              "      <td>65.3333</td>\n",
              "    </tr>\n",
              "    <tr>\n",
              "      <th>Rajasthan Royals</th>\n",
              "      <td>29</td>\n",
              "      <td>46</td>\n",
              "      <td>67</td>\n",
              "      <td>80</td>\n",
              "      <td>43.2836</td>\n",
              "      <td>57.5</td>\n",
              "    </tr>\n",
              "    <tr>\n",
              "      <th>Kings XI Punjab</th>\n",
              "      <td>38</td>\n",
              "      <td>44</td>\n",
              "      <td>91</td>\n",
              "      <td>85</td>\n",
              "      <td>41.7582</td>\n",
              "      <td>51.7647</td>\n",
              "    </tr>\n",
              "    <tr>\n",
              "      <th>Royal Challengers Bangalore</th>\n",
              "      <td>35</td>\n",
              "      <td>49</td>\n",
              "      <td>85</td>\n",
              "      <td>95</td>\n",
              "      <td>41.1765</td>\n",
              "      <td>51.5789</td>\n",
              "    </tr>\n",
              "    <tr>\n",
              "      <th>Kolkata Knight Riders</th>\n",
              "      <td>34</td>\n",
              "      <td>58</td>\n",
              "      <td>83</td>\n",
              "      <td>95</td>\n",
              "      <td>40.9639</td>\n",
              "      <td>61.0526</td>\n",
              "    </tr>\n",
              "    <tr>\n",
              "      <th>Pune Warriors</th>\n",
              "      <td>6</td>\n",
              "      <td>6</td>\n",
              "      <td>20</td>\n",
              "      <td>26</td>\n",
              "      <td>30</td>\n",
              "      <td>23.0769</td>\n",
              "    </tr>\n",
              "    <tr>\n",
              "      <th>Kochi Tuskers Kerala</th>\n",
              "      <td>2</td>\n",
              "      <td>4</td>\n",
              "      <td>7</td>\n",
              "      <td>7</td>\n",
              "      <td>28.5714</td>\n",
              "      <td>57.1429</td>\n",
              "    </tr>\n",
              "    <tr>\n",
              "      <th>Gujarat Lions</th>\n",
              "      <td>1</td>\n",
              "      <td>12</td>\n",
              "      <td>14</td>\n",
              "      <td>16</td>\n",
              "      <td>7.14286</td>\n",
              "      <td>75</td>\n",
              "    </tr>\n",
              "    <tr>\n",
              "      <th>Delhi Capitals</th>\n",
              "      <td>28</td>\n",
              "      <td>49</td>\n",
              "      <td>78</td>\n",
              "      <td>99</td>\n",
              "      <td>35.8974</td>\n",
              "      <td>49.4949</td>\n",
              "    </tr>\n",
              "    <tr>\n",
              "      <th>Sunrisers Hyderabad</th>\n",
              "      <td>48</td>\n",
              "      <td>39</td>\n",
              "      <td>106</td>\n",
              "      <td>77</td>\n",
              "      <td>45.283</td>\n",
              "      <td>50.6494</td>\n",
              "    </tr>\n",
              "  </tbody>\n",
              "</table>\n",
              "</div>"
            ],
            "text/plain": [
              "                            home_wins  ... away_win_percentage\n",
              "team                                   ...                    \n",
              "Rising Pune Supergiant              5  ...                62.5\n",
              "Mumbai Indians                     58  ...             59.3023\n",
              "Chennai Super Kings                51  ...             65.3333\n",
              "Rajasthan Royals                   29  ...                57.5\n",
              "Kings XI Punjab                    38  ...             51.7647\n",
              "Royal Challengers Bangalore        35  ...             51.5789\n",
              "Kolkata Knight Riders              34  ...             61.0526\n",
              "Pune Warriors                       6  ...             23.0769\n",
              "Kochi Tuskers Kerala                2  ...             57.1429\n",
              "Gujarat Lions                       1  ...                  75\n",
              "Delhi Capitals                     28  ...             49.4949\n",
              "Sunrisers Hyderabad                48  ...             50.6494\n",
              "\n",
              "[12 rows x 6 columns]"
            ]
          },
          "metadata": {
            "tags": []
          },
          "execution_count": 18
        }
      ]
    },
    {
      "cell_type": "markdown",
      "metadata": {
        "id": "uSyhIDKATPBI"
      },
      "source": [
        "Now reset the index and made the **team** column as first column of the dataframe **teamwise_home_away_merge_df**"
      ]
    },
    {
      "cell_type": "code",
      "metadata": {
        "scrolled": false,
        "id": "CX5EkLMwTPBJ",
        "outputId": "101fc36d-250e-48cc-efc2-b72107217621",
        "colab": {
          "base_uri": "https://localhost:8080/",
          "height": 421
        }
      },
      "source": [
        "teamwise_home_away_merge_df = teamwise_home_away_merge_df.reset_index(level='team', col_level=1)\n",
        "teamwise_home_away_merge_df"
      ],
      "execution_count": 19,
      "outputs": [
        {
          "output_type": "execute_result",
          "data": {
            "text/html": [
              "<div>\n",
              "<style scoped>\n",
              "    .dataframe tbody tr th:only-of-type {\n",
              "        vertical-align: middle;\n",
              "    }\n",
              "\n",
              "    .dataframe tbody tr th {\n",
              "        vertical-align: top;\n",
              "    }\n",
              "\n",
              "    .dataframe thead th {\n",
              "        text-align: right;\n",
              "    }\n",
              "</style>\n",
              "<table border=\"1\" class=\"dataframe\">\n",
              "  <thead>\n",
              "    <tr style=\"text-align: right;\">\n",
              "      <th></th>\n",
              "      <th>team</th>\n",
              "      <th>home_wins</th>\n",
              "      <th>away_wins</th>\n",
              "      <th>home_matches</th>\n",
              "      <th>away_matches</th>\n",
              "      <th>home_win_percentage</th>\n",
              "      <th>away_win_percentage</th>\n",
              "    </tr>\n",
              "  </thead>\n",
              "  <tbody>\n",
              "    <tr>\n",
              "      <th>0</th>\n",
              "      <td>Rising Pune Supergiant</td>\n",
              "      <td>5</td>\n",
              "      <td>5</td>\n",
              "      <td>8</td>\n",
              "      <td>8</td>\n",
              "      <td>62.5</td>\n",
              "      <td>62.5</td>\n",
              "    </tr>\n",
              "    <tr>\n",
              "      <th>1</th>\n",
              "      <td>Mumbai Indians</td>\n",
              "      <td>58</td>\n",
              "      <td>51</td>\n",
              "      <td>101</td>\n",
              "      <td>86</td>\n",
              "      <td>57.4257</td>\n",
              "      <td>59.3023</td>\n",
              "    </tr>\n",
              "    <tr>\n",
              "      <th>2</th>\n",
              "      <td>Chennai Super Kings</td>\n",
              "      <td>51</td>\n",
              "      <td>49</td>\n",
              "      <td>89</td>\n",
              "      <td>75</td>\n",
              "      <td>57.3034</td>\n",
              "      <td>65.3333</td>\n",
              "    </tr>\n",
              "    <tr>\n",
              "      <th>3</th>\n",
              "      <td>Rajasthan Royals</td>\n",
              "      <td>29</td>\n",
              "      <td>46</td>\n",
              "      <td>67</td>\n",
              "      <td>80</td>\n",
              "      <td>43.2836</td>\n",
              "      <td>57.5</td>\n",
              "    </tr>\n",
              "    <tr>\n",
              "      <th>4</th>\n",
              "      <td>Kings XI Punjab</td>\n",
              "      <td>38</td>\n",
              "      <td>44</td>\n",
              "      <td>91</td>\n",
              "      <td>85</td>\n",
              "      <td>41.7582</td>\n",
              "      <td>51.7647</td>\n",
              "    </tr>\n",
              "    <tr>\n",
              "      <th>5</th>\n",
              "      <td>Royal Challengers Bangalore</td>\n",
              "      <td>35</td>\n",
              "      <td>49</td>\n",
              "      <td>85</td>\n",
              "      <td>95</td>\n",
              "      <td>41.1765</td>\n",
              "      <td>51.5789</td>\n",
              "    </tr>\n",
              "    <tr>\n",
              "      <th>6</th>\n",
              "      <td>Kolkata Knight Riders</td>\n",
              "      <td>34</td>\n",
              "      <td>58</td>\n",
              "      <td>83</td>\n",
              "      <td>95</td>\n",
              "      <td>40.9639</td>\n",
              "      <td>61.0526</td>\n",
              "    </tr>\n",
              "    <tr>\n",
              "      <th>7</th>\n",
              "      <td>Pune Warriors</td>\n",
              "      <td>6</td>\n",
              "      <td>6</td>\n",
              "      <td>20</td>\n",
              "      <td>26</td>\n",
              "      <td>30</td>\n",
              "      <td>23.0769</td>\n",
              "    </tr>\n",
              "    <tr>\n",
              "      <th>8</th>\n",
              "      <td>Kochi Tuskers Kerala</td>\n",
              "      <td>2</td>\n",
              "      <td>4</td>\n",
              "      <td>7</td>\n",
              "      <td>7</td>\n",
              "      <td>28.5714</td>\n",
              "      <td>57.1429</td>\n",
              "    </tr>\n",
              "    <tr>\n",
              "      <th>9</th>\n",
              "      <td>Gujarat Lions</td>\n",
              "      <td>1</td>\n",
              "      <td>12</td>\n",
              "      <td>14</td>\n",
              "      <td>16</td>\n",
              "      <td>7.14286</td>\n",
              "      <td>75</td>\n",
              "    </tr>\n",
              "    <tr>\n",
              "      <th>10</th>\n",
              "      <td>Delhi Capitals</td>\n",
              "      <td>28</td>\n",
              "      <td>49</td>\n",
              "      <td>78</td>\n",
              "      <td>99</td>\n",
              "      <td>35.8974</td>\n",
              "      <td>49.4949</td>\n",
              "    </tr>\n",
              "    <tr>\n",
              "      <th>11</th>\n",
              "      <td>Sunrisers Hyderabad</td>\n",
              "      <td>48</td>\n",
              "      <td>39</td>\n",
              "      <td>106</td>\n",
              "      <td>77</td>\n",
              "      <td>45.283</td>\n",
              "      <td>50.6494</td>\n",
              "    </tr>\n",
              "  </tbody>\n",
              "</table>\n",
              "</div>"
            ],
            "text/plain": [
              "                           team  ... away_win_percentage\n",
              "0        Rising Pune Supergiant  ...                62.5\n",
              "1                Mumbai Indians  ...             59.3023\n",
              "2           Chennai Super Kings  ...             65.3333\n",
              "3              Rajasthan Royals  ...                57.5\n",
              "4               Kings XI Punjab  ...             51.7647\n",
              "5   Royal Challengers Bangalore  ...             51.5789\n",
              "6         Kolkata Knight Riders  ...             61.0526\n",
              "7                 Pune Warriors  ...             23.0769\n",
              "8          Kochi Tuskers Kerala  ...             57.1429\n",
              "9                 Gujarat Lions  ...                  75\n",
              "10               Delhi Capitals  ...             49.4949\n",
              "11          Sunrisers Hyderabad  ...             50.6494\n",
              "\n",
              "[12 rows x 7 columns]"
            ]
          },
          "metadata": {
            "tags": []
          },
          "execution_count": 19
        }
      ]
    },
    {
      "cell_type": "markdown",
      "metadata": {
        "id": "DDc6dYdjTPBO"
      },
      "source": [
        "Now I did some minor modification in the data. \n",
        "- In **players_df** somewhere Right handed batsman was showing as Right_hand and somewhere as Right_Hand. So make a uniform I changed it from **Right_hand** to **Right_Hand**.\n",
        "- In **matches_df and deliveries_df** team name **Rising Pune Supergiant** was not proper. So made it from **Rising Pune Supergiant** to **Rising Pune Supergiants**\n",
        "- In **matches_df and deliveries_df** team name **Delhi Daredevils** renamed to **Delhi Capitals**.\n",
        "- In **matches_df and deliveries_df** team name **Deccan Chargers** renamed to **Sunrisers Hyderabad**."
      ]
    },
    {
      "cell_type": "code",
      "metadata": {
        "id": "pYAvCHfOTPBT"
      },
      "source": [
        "players_df.replace('Right_hand','Right_Hand',inplace=True)\n",
        "matches_df.replace('Rising Pune Supergiant','Rising Pune Supergiants',inplace=True) \n",
        "deliveries_df.replace('Rising Pune Supergiant','Rising Pune Supergiants',inplace=True)\n",
        "\n",
        "deliveries_df.replace('Delhi Daredevils','Delhi Capitals',inplace=True)\n",
        "matches_df.replace('Delhi Daredevils','Delhi Capitals',inplace=True)\n",
        "# considering Delhi Daredevils played as Delhi Capitals throughout IPL\n",
        "\n",
        "matches_df.replace('Deccan Chargers','Sunrisers Hyderabad',inplace=True)\n",
        "deliveries_df.replace('Deccan Chargers','Sunrisers Hyderabad',inplace=True) \n",
        "# considering Delhi Daredevils played as Delhi Capitals throughout IPL"
      ],
      "execution_count": 20,
      "outputs": []
    },
    {
      "cell_type": "code",
      "metadata": {
        "id": "g6Kd7yFaTPBc",
        "outputId": "5c6188b4-9de0-4d43-db7d-1c4a4c091367",
        "colab": {
          "base_uri": "https://localhost:8080/",
          "height": 442
        }
      },
      "source": [
        "matches_df.info()"
      ],
      "execution_count": 21,
      "outputs": [
        {
          "output_type": "stream",
          "text": [
            "<class 'pandas.core.frame.DataFrame'>\n",
            "RangeIndex: 756 entries, 0 to 755\n",
            "Data columns (total 18 columns):\n",
            " #   Column           Non-Null Count  Dtype \n",
            "---  ------           --------------  ----- \n",
            " 0   id               756 non-null    int64 \n",
            " 1   Season           756 non-null    object\n",
            " 2   city             756 non-null    object\n",
            " 3   date             756 non-null    object\n",
            " 4   team1            756 non-null    object\n",
            " 5   team2            756 non-null    object\n",
            " 6   toss_winner      756 non-null    object\n",
            " 7   toss_decision    756 non-null    object\n",
            " 8   result           756 non-null    object\n",
            " 9   dl_applied       756 non-null    int64 \n",
            " 10  winner           752 non-null    object\n",
            " 11  win_by_runs      756 non-null    int64 \n",
            " 12  win_by_wickets   756 non-null    int64 \n",
            " 13  player_of_match  752 non-null    object\n",
            " 14  venue            756 non-null    object\n",
            " 15  umpire1          754 non-null    object\n",
            " 16  umpire2          754 non-null    object\n",
            " 17  umpire3          119 non-null    object\n",
            "dtypes: int64(4), object(14)\n",
            "memory usage: 106.4+ KB\n"
          ],
          "name": "stdout"
        }
      ]
    },
    {
      "cell_type": "markdown",
      "metadata": {
        "id": "IehdCnOxTPBm"
      },
      "source": [
        "In **matches_df** there are 3 columns which has no impact on others column or dataframe. So considering this point I dropped these 3 columns **umpire1, umpire2 and umpire3**."
      ]
    },
    {
      "cell_type": "code",
      "metadata": {
        "id": "XzrpiwYcTPBn"
      },
      "source": [
        "matches_df.drop(['umpire1','umpire2','umpire3'],axis=1,inplace=True)"
      ],
      "execution_count": 22,
      "outputs": []
    },
    {
      "cell_type": "code",
      "metadata": {
        "id": "av0h-o5ETPBy",
        "outputId": "8761e585-a522-4166-acbb-e64ee0500a62",
        "colab": {
          "base_uri": "https://localhost:8080/",
          "height": 391
        }
      },
      "source": [
        "matches_df.info()"
      ],
      "execution_count": 23,
      "outputs": [
        {
          "output_type": "stream",
          "text": [
            "<class 'pandas.core.frame.DataFrame'>\n",
            "RangeIndex: 756 entries, 0 to 755\n",
            "Data columns (total 15 columns):\n",
            " #   Column           Non-Null Count  Dtype \n",
            "---  ------           --------------  ----- \n",
            " 0   id               756 non-null    int64 \n",
            " 1   Season           756 non-null    object\n",
            " 2   city             756 non-null    object\n",
            " 3   date             756 non-null    object\n",
            " 4   team1            756 non-null    object\n",
            " 5   team2            756 non-null    object\n",
            " 6   toss_winner      756 non-null    object\n",
            " 7   toss_decision    756 non-null    object\n",
            " 8   result           756 non-null    object\n",
            " 9   dl_applied       756 non-null    int64 \n",
            " 10  winner           752 non-null    object\n",
            " 11  win_by_runs      756 non-null    int64 \n",
            " 12  win_by_wickets   756 non-null    int64 \n",
            " 13  player_of_match  752 non-null    object\n",
            " 14  venue            756 non-null    object\n",
            "dtypes: int64(4), object(11)\n",
            "memory usage: 88.7+ KB\n"
          ],
          "name": "stdout"
        }
      ]
    },
    {
      "cell_type": "markdown",
      "metadata": {
        "id": "je_4zn9YTPCP"
      },
      "source": [
        "In **matches_df** has date column but its **data type** was not in Date. So change the data type of **date** column."
      ]
    },
    {
      "cell_type": "code",
      "metadata": {
        "id": "JYbmH64BTPCQ",
        "outputId": "68c3c55b-7b26-42ff-a99f-f7abf22dfca4",
        "colab": {
          "base_uri": "https://localhost:8080/",
          "height": 391
        }
      },
      "source": [
        "matches_df[\"date\"]= pd.to_datetime(matches_df[\"date\"]) \n",
        "matches_df.info()"
      ],
      "execution_count": 24,
      "outputs": [
        {
          "output_type": "stream",
          "text": [
            "<class 'pandas.core.frame.DataFrame'>\n",
            "RangeIndex: 756 entries, 0 to 755\n",
            "Data columns (total 15 columns):\n",
            " #   Column           Non-Null Count  Dtype         \n",
            "---  ------           --------------  -----         \n",
            " 0   id               756 non-null    int64         \n",
            " 1   Season           756 non-null    object        \n",
            " 2   city             756 non-null    object        \n",
            " 3   date             756 non-null    datetime64[ns]\n",
            " 4   team1            756 non-null    object        \n",
            " 5   team2            756 non-null    object        \n",
            " 6   toss_winner      756 non-null    object        \n",
            " 7   toss_decision    756 non-null    object        \n",
            " 8   result           756 non-null    object        \n",
            " 9   dl_applied       756 non-null    int64         \n",
            " 10  winner           752 non-null    object        \n",
            " 11  win_by_runs      756 non-null    int64         \n",
            " 12  win_by_wickets   756 non-null    int64         \n",
            " 13  player_of_match  752 non-null    object        \n",
            " 14  venue            756 non-null    object        \n",
            "dtypes: datetime64[ns](1), int64(4), object(10)\n",
            "memory usage: 88.7+ KB\n"
          ],
          "name": "stdout"
        }
      ]
    },
    {
      "cell_type": "markdown",
      "metadata": {
        "id": "aFOJCw2BTPCj"
      },
      "source": [
        "In This dataframe having many players who never did the batting so their out column is showing 0. And due to this Average is not calculating. So We can drop those record which has out as 0."
      ]
    },
    {
      "cell_type": "code",
      "metadata": {
        "id": "kw4yCQklTPCl",
        "outputId": "25a07afa-dfb2-495b-95a0-f508e072f177",
        "colab": {
          "base_uri": "https://localhost:8080/",
          "height": 297
        }
      },
      "source": [
        "most_runs_average_df.describe()"
      ],
      "execution_count": 25,
      "outputs": [
        {
          "output_type": "execute_result",
          "data": {
            "text/html": [
              "<div>\n",
              "<style scoped>\n",
              "    .dataframe tbody tr th:only-of-type {\n",
              "        vertical-align: middle;\n",
              "    }\n",
              "\n",
              "    .dataframe tbody tr th {\n",
              "        vertical-align: top;\n",
              "    }\n",
              "\n",
              "    .dataframe thead th {\n",
              "        text-align: right;\n",
              "    }\n",
              "</style>\n",
              "<table border=\"1\" class=\"dataframe\">\n",
              "  <thead>\n",
              "    <tr style=\"text-align: right;\">\n",
              "      <th></th>\n",
              "      <th>total_runs</th>\n",
              "      <th>out</th>\n",
              "      <th>numberofballs</th>\n",
              "      <th>average</th>\n",
              "      <th>strikerate</th>\n",
              "    </tr>\n",
              "  </thead>\n",
              "  <tbody>\n",
              "    <tr>\n",
              "      <th>count</th>\n",
              "      <td>516.000000</td>\n",
              "      <td>516.000000</td>\n",
              "      <td>516.000000</td>\n",
              "      <td>482.000000</td>\n",
              "      <td>516.000000</td>\n",
              "    </tr>\n",
              "    <tr>\n",
              "      <th>mean</th>\n",
              "      <td>430.625969</td>\n",
              "      <td>17.063953</td>\n",
              "      <td>335.645349</td>\n",
              "      <td>16.355074</td>\n",
              "      <td>105.433442</td>\n",
              "    </tr>\n",
              "    <tr>\n",
              "      <th>std</th>\n",
              "      <td>882.275431</td>\n",
              "      <td>28.124511</td>\n",
              "      <td>663.593679</td>\n",
              "      <td>11.146222</td>\n",
              "      <td>39.633938</td>\n",
              "    </tr>\n",
              "    <tr>\n",
              "      <th>min</th>\n",
              "      <td>0.000000</td>\n",
              "      <td>0.000000</td>\n",
              "      <td>1.000000</td>\n",
              "      <td>0.000000</td>\n",
              "      <td>0.000000</td>\n",
              "    </tr>\n",
              "    <tr>\n",
              "      <th>25%</th>\n",
              "      <td>15.000000</td>\n",
              "      <td>2.000000</td>\n",
              "      <td>17.000000</td>\n",
              "      <td>8.000000</td>\n",
              "      <td>84.362069</td>\n",
              "    </tr>\n",
              "    <tr>\n",
              "      <th>50%</th>\n",
              "      <td>74.000000</td>\n",
              "      <td>5.500000</td>\n",
              "      <td>68.000000</td>\n",
              "      <td>14.607143</td>\n",
              "      <td>111.651584</td>\n",
              "    </tr>\n",
              "    <tr>\n",
              "      <th>75%</th>\n",
              "      <td>340.500000</td>\n",
              "      <td>18.000000</td>\n",
              "      <td>290.000000</td>\n",
              "      <td>23.657609</td>\n",
              "      <td>130.499036</td>\n",
              "    </tr>\n",
              "    <tr>\n",
              "      <th>max</th>\n",
              "      <td>5426.000000</td>\n",
              "      <td>161.000000</td>\n",
              "      <td>4111.000000</td>\n",
              "      <td>88.000000</td>\n",
              "      <td>250.000000</td>\n",
              "    </tr>\n",
              "  </tbody>\n",
              "</table>\n",
              "</div>"
            ],
            "text/plain": [
              "        total_runs         out  numberofballs     average  strikerate\n",
              "count   516.000000  516.000000     516.000000  482.000000  516.000000\n",
              "mean    430.625969   17.063953     335.645349   16.355074  105.433442\n",
              "std     882.275431   28.124511     663.593679   11.146222   39.633938\n",
              "min       0.000000    0.000000       1.000000    0.000000    0.000000\n",
              "25%      15.000000    2.000000      17.000000    8.000000   84.362069\n",
              "50%      74.000000    5.500000      68.000000   14.607143  111.651584\n",
              "75%     340.500000   18.000000     290.000000   23.657609  130.499036\n",
              "max    5426.000000  161.000000    4111.000000   88.000000  250.000000"
            ]
          },
          "metadata": {
            "tags": []
          },
          "execution_count": 25
        }
      ]
    },
    {
      "cell_type": "markdown",
      "metadata": {
        "id": "A-JXraJDTPCs"
      },
      "source": [
        "I observe that many batsman's score (run) is 0 and ball faced also 0. So their average and strike rate is 0 and not impacting the whole dataframe or other records. So dropping those records having out is 0"
      ]
    },
    {
      "cell_type": "code",
      "metadata": {
        "id": "xBSPcY7wBj_9"
      },
      "source": [
        "most_runs_average_df.drop (most_runs_average_df[most_runs_average_df.out == 0].index, inplace =True)"
      ],
      "execution_count": 26,
      "outputs": []
    },
    {
      "cell_type": "code",
      "metadata": {
        "scrolled": true,
        "id": "fGPIp0UHTPC7",
        "outputId": "79221cd9-cdfb-4dd6-a412-1189f09ddc6f",
        "colab": {
          "base_uri": "https://localhost:8080/",
          "height": 297
        }
      },
      "source": [
        "most_runs_average_df.describe()"
      ],
      "execution_count": 27,
      "outputs": [
        {
          "output_type": "execute_result",
          "data": {
            "text/html": [
              "<div>\n",
              "<style scoped>\n",
              "    .dataframe tbody tr th:only-of-type {\n",
              "        vertical-align: middle;\n",
              "    }\n",
              "\n",
              "    .dataframe tbody tr th {\n",
              "        vertical-align: top;\n",
              "    }\n",
              "\n",
              "    .dataframe thead th {\n",
              "        text-align: right;\n",
              "    }\n",
              "</style>\n",
              "<table border=\"1\" class=\"dataframe\">\n",
              "  <thead>\n",
              "    <tr style=\"text-align: right;\">\n",
              "      <th></th>\n",
              "      <th>total_runs</th>\n",
              "      <th>out</th>\n",
              "      <th>numberofballs</th>\n",
              "      <th>average</th>\n",
              "      <th>strikerate</th>\n",
              "    </tr>\n",
              "  </thead>\n",
              "  <tbody>\n",
              "    <tr>\n",
              "      <th>count</th>\n",
              "      <td>482.000000</td>\n",
              "      <td>482.000000</td>\n",
              "      <td>482.000000</td>\n",
              "      <td>482.000000</td>\n",
              "      <td>482.000000</td>\n",
              "    </tr>\n",
              "    <tr>\n",
              "      <th>mean</th>\n",
              "      <td>460.630705</td>\n",
              "      <td>18.267635</td>\n",
              "      <td>358.979253</td>\n",
              "      <td>16.355074</td>\n",
              "      <td>105.767203</td>\n",
              "    </tr>\n",
              "    <tr>\n",
              "      <th>std</th>\n",
              "      <td>905.394487</td>\n",
              "      <td>28.720478</td>\n",
              "      <td>680.589584</td>\n",
              "      <td>11.146222</td>\n",
              "      <td>37.070888</td>\n",
              "    </tr>\n",
              "    <tr>\n",
              "      <th>min</th>\n",
              "      <td>0.000000</td>\n",
              "      <td>1.000000</td>\n",
              "      <td>1.000000</td>\n",
              "      <td>0.000000</td>\n",
              "      <td>0.000000</td>\n",
              "    </tr>\n",
              "    <tr>\n",
              "      <th>25%</th>\n",
              "      <td>20.000000</td>\n",
              "      <td>2.000000</td>\n",
              "      <td>22.250000</td>\n",
              "      <td>8.000000</td>\n",
              "      <td>85.046296</td>\n",
              "    </tr>\n",
              "    <tr>\n",
              "      <th>50%</th>\n",
              "      <td>90.000000</td>\n",
              "      <td>6.500000</td>\n",
              "      <td>77.500000</td>\n",
              "      <td>14.607143</td>\n",
              "      <td>112.172840</td>\n",
              "    </tr>\n",
              "    <tr>\n",
              "      <th>75%</th>\n",
              "      <td>393.000000</td>\n",
              "      <td>19.750000</td>\n",
              "      <td>313.500000</td>\n",
              "      <td>23.657609</td>\n",
              "      <td>130.192479</td>\n",
              "    </tr>\n",
              "    <tr>\n",
              "      <th>max</th>\n",
              "      <td>5426.000000</td>\n",
              "      <td>161.000000</td>\n",
              "      <td>4111.000000</td>\n",
              "      <td>88.000000</td>\n",
              "      <td>205.263158</td>\n",
              "    </tr>\n",
              "  </tbody>\n",
              "</table>\n",
              "</div>"
            ],
            "text/plain": [
              "        total_runs         out  numberofballs     average  strikerate\n",
              "count   482.000000  482.000000     482.000000  482.000000  482.000000\n",
              "mean    460.630705   18.267635     358.979253   16.355074  105.767203\n",
              "std     905.394487   28.720478     680.589584   11.146222   37.070888\n",
              "min       0.000000    1.000000       1.000000    0.000000    0.000000\n",
              "25%      20.000000    2.000000      22.250000    8.000000   85.046296\n",
              "50%      90.000000    6.500000      77.500000   14.607143  112.172840\n",
              "75%     393.000000   19.750000     313.500000   23.657609  130.192479\n",
              "max    5426.000000  161.000000    4111.000000   88.000000  205.263158"
            ]
          },
          "metadata": {
            "tags": []
          },
          "execution_count": 27
        }
      ]
    },
    {
      "cell_type": "markdown",
      "metadata": {
        "id": "WpBBrYNuBj_6"
      },
      "source": [
        "\n",
        "\n",
        "```\n",
        "# This is formatted as code\n",
        "```\n",
        "\n",
        "## Exploratory Analysis and Visualization"
      ]
    },
    {
      "cell_type": "markdown",
      "metadata": {
        "id": "PEyompbzTPDK"
      },
      "source": [
        "**1) How many players are Left Handed and Right Handed?**"
      ]
    },
    {
      "cell_type": "code",
      "metadata": {
        "id": "5Qi094iDBj-r",
        "scrolled": true
      },
      "source": [
        "matplotlib.rcParams['font.size'] = 12\n",
        "matplotlib.rcParams['figure.figsize'] = (12, 5)\n",
        "matplotlib.rcParams['figure.facecolor'] = '#00000000'"
      ],
      "execution_count": 28,
      "outputs": []
    },
    {
      "cell_type": "code",
      "metadata": {
        "id": "wiqjxpDHTPDS",
        "outputId": "0caeab17-745a-4309-853c-764395870aa2",
        "colab": {
          "base_uri": "https://localhost:8080/",
          "height": 142
        }
      },
      "source": [
        "players_df_bat_hnd  = players_df.groupby('Batting_Hand').agg('count')\n",
        "players_df_bat_hnd"
      ],
      "execution_count": 29,
      "outputs": [
        {
          "output_type": "execute_result",
          "data": {
            "text/html": [
              "<div>\n",
              "<style scoped>\n",
              "    .dataframe tbody tr th:only-of-type {\n",
              "        vertical-align: middle;\n",
              "    }\n",
              "\n",
              "    .dataframe tbody tr th {\n",
              "        vertical-align: top;\n",
              "    }\n",
              "\n",
              "    .dataframe thead th {\n",
              "        text-align: right;\n",
              "    }\n",
              "</style>\n",
              "<table border=\"1\" class=\"dataframe\">\n",
              "  <thead>\n",
              "    <tr style=\"text-align: right;\">\n",
              "      <th></th>\n",
              "      <th>Player_Name</th>\n",
              "      <th>DOB</th>\n",
              "      <th>Bowling_Skill</th>\n",
              "      <th>Country</th>\n",
              "    </tr>\n",
              "    <tr>\n",
              "      <th>Batting_Hand</th>\n",
              "      <th></th>\n",
              "      <th></th>\n",
              "      <th></th>\n",
              "      <th></th>\n",
              "    </tr>\n",
              "  </thead>\n",
              "  <tbody>\n",
              "    <tr>\n",
              "      <th>Left_Hand</th>\n",
              "      <td>142</td>\n",
              "      <td>123</td>\n",
              "      <td>126</td>\n",
              "      <td>142</td>\n",
              "    </tr>\n",
              "    <tr>\n",
              "      <th>Right_Hand</th>\n",
              "      <td>424</td>\n",
              "      <td>348</td>\n",
              "      <td>376</td>\n",
              "      <td>424</td>\n",
              "    </tr>\n",
              "  </tbody>\n",
              "</table>\n",
              "</div>"
            ],
            "text/plain": [
              "              Player_Name  DOB  Bowling_Skill  Country\n",
              "Batting_Hand                                          \n",
              "Left_Hand             142  123            126      142\n",
              "Right_Hand            424  348            376      424"
            ]
          },
          "metadata": {
            "tags": []
          },
          "execution_count": 29
        }
      ]
    },
    {
      "cell_type": "code",
      "metadata": {
        "id": "hKzg02JMTPDb",
        "outputId": "16ed799b-b7d5-451a-8d0d-78e6d4b791df",
        "colab": {
          "base_uri": "https://localhost:8080/",
          "height": 357
        }
      },
      "source": [
        "players_df_bat_hnd.rename(columns={'Player_Name': 'Player_Count'})\n",
        "players_df_bat_hnd.plot.pie(y='Player_Name',figsize=(6,6) );"
      ],
      "execution_count": 30,
      "outputs": [
        {
          "output_type": "display_data",
          "data": {
            "image/png": "[encoded data removed]",
            "text/plain": [
              "<Figure size 432x432 with 1 Axes>"
            ]
          },
          "metadata": {
            "tags": []
          }
        }
      ]
    },
    {
      "cell_type": "code",
      "metadata": {
        "id": "31--DQd4Bj_p",
        "scrolled": true,
        "outputId": "3285f299-121d-4b06-b65e-eab3ab276544",
        "colab": {
          "base_uri": "https://localhost:8080/",
          "height": 86
        }
      },
      "source": [
        "import jovian\n",
        "jovian.commit(project=project_name)"
      ],
      "execution_count": 31,
      "outputs": [
        {
          "output_type": "stream",
          "text": [
            "[jovian] Detected Colab notebook...\u001b[0m\n",
            "[jovian] Uploading colab notebook to Jovian...\u001b[0m\n",
            "[jovian] Committed successfully! https://jovian.ml/santosh0236/indian-premier-league-stats-and-analysis\u001b[0m\n"
          ],
          "name": "stdout"
        },
        {
          "output_type": "execute_result",
          "data": {
            "application/vnd.google.colaboratory.intrinsic+json": {
              "type": "string"
            },
            "text/plain": [
              "'https://jovian.ml/santosh0236/indian-premier-league-stats-and-analysis'"
            ]
          },
          "metadata": {
            "tags": []
          },
          "execution_count": 31
        }
      ]
    },
    {
      "cell_type": "markdown",
      "metadata": {
        "id": "u-Pf3cQFTPDn"
      },
      "source": [
        "**2) Top Scorer / Average / Strike rate till so far (All season inclusive)**"
      ]
    },
    {
      "cell_type": "code",
      "metadata": {
        "id": "jmYy4v9QTPDo",
        "outputId": "0518b2b0-f7f6-4add-fd99-65142485f14e",
        "colab": {
          "base_uri": "https://localhost:8080/",
          "height": 419
        }
      },
      "source": [
        "most_runs_average_df"
      ],
      "execution_count": 32,
      "outputs": [
        {
          "output_type": "execute_result",
          "data": {
            "text/html": [
              "<div>\n",
              "<style scoped>\n",
              "    .dataframe tbody tr th:only-of-type {\n",
              "        vertical-align: middle;\n",
              "    }\n",
              "\n",
              "    .dataframe tbody tr th {\n",
              "        vertical-align: top;\n",
              "    }\n",
              "\n",
              "    .dataframe thead th {\n",
              "        text-align: right;\n",
              "    }\n",
              "</style>\n",
              "<table border=\"1\" class=\"dataframe\">\n",
              "  <thead>\n",
              "    <tr style=\"text-align: right;\">\n",
              "      <th></th>\n",
              "      <th>batsman</th>\n",
              "      <th>total_runs</th>\n",
              "      <th>out</th>\n",
              "      <th>numberofballs</th>\n",
              "      <th>average</th>\n",
              "      <th>strikerate</th>\n",
              "    </tr>\n",
              "  </thead>\n",
              "  <tbody>\n",
              "    <tr>\n",
              "      <th>0</th>\n",
              "      <td>RG Sharma</td>\n",
              "      <td>4902</td>\n",
              "      <td>161</td>\n",
              "      <td>3742</td>\n",
              "      <td>30.447205</td>\n",
              "      <td>130.999466</td>\n",
              "    </tr>\n",
              "    <tr>\n",
              "      <th>1</th>\n",
              "      <td>SK Raina</td>\n",
              "      <td>5386</td>\n",
              "      <td>160</td>\n",
              "      <td>3916</td>\n",
              "      <td>33.662500</td>\n",
              "      <td>137.538304</td>\n",
              "    </tr>\n",
              "    <tr>\n",
              "      <th>2</th>\n",
              "      <td>RV Uthappa</td>\n",
              "      <td>4420</td>\n",
              "      <td>156</td>\n",
              "      <td>3381</td>\n",
              "      <td>28.333333</td>\n",
              "      <td>130.730553</td>\n",
              "    </tr>\n",
              "    <tr>\n",
              "      <th>3</th>\n",
              "      <td>V Kohli</td>\n",
              "      <td>5426</td>\n",
              "      <td>152</td>\n",
              "      <td>4111</td>\n",
              "      <td>35.697368</td>\n",
              "      <td>131.987351</td>\n",
              "    </tr>\n",
              "    <tr>\n",
              "      <th>4</th>\n",
              "      <td>KD Karthik</td>\n",
              "      <td>3669</td>\n",
              "      <td>138</td>\n",
              "      <td>2813</td>\n",
              "      <td>26.586957</td>\n",
              "      <td>130.430146</td>\n",
              "    </tr>\n",
              "    <tr>\n",
              "      <th>...</th>\n",
              "      <td>...</td>\n",
              "      <td>...</td>\n",
              "      <td>...</td>\n",
              "      <td>...</td>\n",
              "      <td>...</td>\n",
              "      <td>...</td>\n",
              "    </tr>\n",
              "    <tr>\n",
              "      <th>477</th>\n",
              "      <td>Sunny Gupta</td>\n",
              "      <td>0</td>\n",
              "      <td>1</td>\n",
              "      <td>1</td>\n",
              "      <td>0.000000</td>\n",
              "      <td>0.000000</td>\n",
              "    </tr>\n",
              "    <tr>\n",
              "      <th>478</th>\n",
              "      <td>ND Doshi</td>\n",
              "      <td>0</td>\n",
              "      <td>1</td>\n",
              "      <td>13</td>\n",
              "      <td>0.000000</td>\n",
              "      <td>0.000000</td>\n",
              "    </tr>\n",
              "    <tr>\n",
              "      <th>479</th>\n",
              "      <td>J Denly</td>\n",
              "      <td>0</td>\n",
              "      <td>1</td>\n",
              "      <td>1</td>\n",
              "      <td>0.000000</td>\n",
              "      <td>0.000000</td>\n",
              "    </tr>\n",
              "    <tr>\n",
              "      <th>480</th>\n",
              "      <td>V Pratap Singh</td>\n",
              "      <td>0</td>\n",
              "      <td>1</td>\n",
              "      <td>1</td>\n",
              "      <td>0.000000</td>\n",
              "      <td>0.000000</td>\n",
              "    </tr>\n",
              "    <tr>\n",
              "      <th>481</th>\n",
              "      <td>S Kaushik</td>\n",
              "      <td>0</td>\n",
              "      <td>1</td>\n",
              "      <td>1</td>\n",
              "      <td>0.000000</td>\n",
              "      <td>0.000000</td>\n",
              "    </tr>\n",
              "  </tbody>\n",
              "</table>\n",
              "<p>482 rows × 6 columns</p>\n",
              "</div>"
            ],
            "text/plain": [
              "            batsman  total_runs  out  numberofballs    average  strikerate\n",
              "0         RG Sharma        4902  161           3742  30.447205  130.999466\n",
              "1          SK Raina        5386  160           3916  33.662500  137.538304\n",
              "2        RV Uthappa        4420  156           3381  28.333333  130.730553\n",
              "3           V Kohli        5426  152           4111  35.697368  131.987351\n",
              "4        KD Karthik        3669  138           2813  26.586957  130.430146\n",
              "..              ...         ...  ...            ...        ...         ...\n",
              "477     Sunny Gupta           0    1              1   0.000000    0.000000\n",
              "478        ND Doshi           0    1             13   0.000000    0.000000\n",
              "479         J Denly           0    1              1   0.000000    0.000000\n",
              "480  V Pratap Singh           0    1              1   0.000000    0.000000\n",
              "481       S Kaushik           0    1              1   0.000000    0.000000\n",
              "\n",
              "[482 rows x 6 columns]"
            ]
          },
          "metadata": {
            "tags": []
          },
          "execution_count": 32
        }
      ]
    },
    {
      "cell_type": "code",
      "metadata": {
        "id": "2XEz3F36BkAL",
        "scrolled": false,
        "outputId": "59ca628f-6ce7-4012-c54b-7a5fa0b5c412",
        "colab": {
          "base_uri": "https://localhost:8080/",
          "height": 419
        }
      },
      "source": [
        "most_runs_average_df = most_runs_average_df.set_index(\"batsman\")\n",
        "most_runs_average_df = most_runs_average_df.reset_index(level='batsman', col_level=1)\n",
        "most_runs_average_df"
      ],
      "execution_count": 33,
      "outputs": [
        {
          "output_type": "execute_result",
          "data": {
            "text/html": [
              "<div>\n",
              "<style scoped>\n",
              "    .dataframe tbody tr th:only-of-type {\n",
              "        vertical-align: middle;\n",
              "    }\n",
              "\n",
              "    .dataframe tbody tr th {\n",
              "        vertical-align: top;\n",
              "    }\n",
              "\n",
              "    .dataframe thead th {\n",
              "        text-align: right;\n",
              "    }\n",
              "</style>\n",
              "<table border=\"1\" class=\"dataframe\">\n",
              "  <thead>\n",
              "    <tr style=\"text-align: right;\">\n",
              "      <th></th>\n",
              "      <th>batsman</th>\n",
              "      <th>total_runs</th>\n",
              "      <th>out</th>\n",
              "      <th>numberofballs</th>\n",
              "      <th>average</th>\n",
              "      <th>strikerate</th>\n",
              "    </tr>\n",
              "  </thead>\n",
              "  <tbody>\n",
              "    <tr>\n",
              "      <th>0</th>\n",
              "      <td>RG Sharma</td>\n",
              "      <td>4902</td>\n",
              "      <td>161</td>\n",
              "      <td>3742</td>\n",
              "      <td>30.447205</td>\n",
              "      <td>130.999466</td>\n",
              "    </tr>\n",
              "    <tr>\n",
              "      <th>1</th>\n",
              "      <td>SK Raina</td>\n",
              "      <td>5386</td>\n",
              "      <td>160</td>\n",
              "      <td>3916</td>\n",
              "      <td>33.662500</td>\n",
              "      <td>137.538304</td>\n",
              "    </tr>\n",
              "    <tr>\n",
              "      <th>2</th>\n",
              "      <td>RV Uthappa</td>\n",
              "      <td>4420</td>\n",
              "      <td>156</td>\n",
              "      <td>3381</td>\n",
              "      <td>28.333333</td>\n",
              "      <td>130.730553</td>\n",
              "    </tr>\n",
              "    <tr>\n",
              "      <th>3</th>\n",
              "      <td>V Kohli</td>\n",
              "      <td>5426</td>\n",
              "      <td>152</td>\n",
              "      <td>4111</td>\n",
              "      <td>35.697368</td>\n",
              "      <td>131.987351</td>\n",
              "    </tr>\n",
              "    <tr>\n",
              "      <th>4</th>\n",
              "      <td>KD Karthik</td>\n",
              "      <td>3669</td>\n",
              "      <td>138</td>\n",
              "      <td>2813</td>\n",
              "      <td>26.586957</td>\n",
              "      <td>130.430146</td>\n",
              "    </tr>\n",
              "    <tr>\n",
              "      <th>...</th>\n",
              "      <td>...</td>\n",
              "      <td>...</td>\n",
              "      <td>...</td>\n",
              "      <td>...</td>\n",
              "      <td>...</td>\n",
              "      <td>...</td>\n",
              "    </tr>\n",
              "    <tr>\n",
              "      <th>477</th>\n",
              "      <td>Sunny Gupta</td>\n",
              "      <td>0</td>\n",
              "      <td>1</td>\n",
              "      <td>1</td>\n",
              "      <td>0.000000</td>\n",
              "      <td>0.000000</td>\n",
              "    </tr>\n",
              "    <tr>\n",
              "      <th>478</th>\n",
              "      <td>ND Doshi</td>\n",
              "      <td>0</td>\n",
              "      <td>1</td>\n",
              "      <td>13</td>\n",
              "      <td>0.000000</td>\n",
              "      <td>0.000000</td>\n",
              "    </tr>\n",
              "    <tr>\n",
              "      <th>479</th>\n",
              "      <td>J Denly</td>\n",
              "      <td>0</td>\n",
              "      <td>1</td>\n",
              "      <td>1</td>\n",
              "      <td>0.000000</td>\n",
              "      <td>0.000000</td>\n",
              "    </tr>\n",
              "    <tr>\n",
              "      <th>480</th>\n",
              "      <td>V Pratap Singh</td>\n",
              "      <td>0</td>\n",
              "      <td>1</td>\n",
              "      <td>1</td>\n",
              "      <td>0.000000</td>\n",
              "      <td>0.000000</td>\n",
              "    </tr>\n",
              "    <tr>\n",
              "      <th>481</th>\n",
              "      <td>S Kaushik</td>\n",
              "      <td>0</td>\n",
              "      <td>1</td>\n",
              "      <td>1</td>\n",
              "      <td>0.000000</td>\n",
              "      <td>0.000000</td>\n",
              "    </tr>\n",
              "  </tbody>\n",
              "</table>\n",
              "<p>482 rows × 6 columns</p>\n",
              "</div>"
            ],
            "text/plain": [
              "            batsman  total_runs  out  numberofballs    average  strikerate\n",
              "0         RG Sharma        4902  161           3742  30.447205  130.999466\n",
              "1          SK Raina        5386  160           3916  33.662500  137.538304\n",
              "2        RV Uthappa        4420  156           3381  28.333333  130.730553\n",
              "3           V Kohli        5426  152           4111  35.697368  131.987351\n",
              "4        KD Karthik        3669  138           2813  26.586957  130.430146\n",
              "..              ...         ...  ...            ...        ...         ...\n",
              "477     Sunny Gupta           0    1              1   0.000000    0.000000\n",
              "478        ND Doshi           0    1             13   0.000000    0.000000\n",
              "479         J Denly           0    1              1   0.000000    0.000000\n",
              "480  V Pratap Singh           0    1              1   0.000000    0.000000\n",
              "481       S Kaushik           0    1              1   0.000000    0.000000\n",
              "\n",
              "[482 rows x 6 columns]"
            ]
          },
          "metadata": {
            "tags": []
          },
          "execution_count": 33
        }
      ]
    },
    {
      "cell_type": "code",
      "metadata": {
        "id": "BTiDL0o2TPDy",
        "outputId": "f1d19e08-4688-40d5-d0ba-c3db6a4f3721",
        "colab": {
          "base_uri": "https://localhost:8080/",
          "height": 359
        }
      },
      "source": [
        "# Top 10 batsman having Most run\n",
        "top_10_most_scorer  = most_runs_average_df.nlargest(10,[\"total_runs\"])\n",
        "top_10_most_scorer  = pd.DataFrame(top_10_most_scorer)\n",
        "top_10_most_scorer[['batsman',\"total_runs\"]]"
      ],
      "execution_count": 34,
      "outputs": [
        {
          "output_type": "execute_result",
          "data": {
            "text/html": [
              "<div>\n",
              "<style scoped>\n",
              "    .dataframe tbody tr th:only-of-type {\n",
              "        vertical-align: middle;\n",
              "    }\n",
              "\n",
              "    .dataframe tbody tr th {\n",
              "        vertical-align: top;\n",
              "    }\n",
              "\n",
              "    .dataframe thead th {\n",
              "        text-align: right;\n",
              "    }\n",
              "</style>\n",
              "<table border=\"1\" class=\"dataframe\">\n",
              "  <thead>\n",
              "    <tr style=\"text-align: right;\">\n",
              "      <th></th>\n",
              "      <th>batsman</th>\n",
              "      <th>total_runs</th>\n",
              "    </tr>\n",
              "  </thead>\n",
              "  <tbody>\n",
              "    <tr>\n",
              "      <th>3</th>\n",
              "      <td>V Kohli</td>\n",
              "      <td>5426</td>\n",
              "    </tr>\n",
              "    <tr>\n",
              "      <th>1</th>\n",
              "      <td>SK Raina</td>\n",
              "      <td>5386</td>\n",
              "    </tr>\n",
              "    <tr>\n",
              "      <th>0</th>\n",
              "      <td>RG Sharma</td>\n",
              "      <td>4902</td>\n",
              "    </tr>\n",
              "    <tr>\n",
              "      <th>11</th>\n",
              "      <td>DA Warner</td>\n",
              "      <td>4717</td>\n",
              "    </tr>\n",
              "    <tr>\n",
              "      <th>5</th>\n",
              "      <td>S Dhawan</td>\n",
              "      <td>4601</td>\n",
              "    </tr>\n",
              "    <tr>\n",
              "      <th>13</th>\n",
              "      <td>CH Gayle</td>\n",
              "      <td>4525</td>\n",
              "    </tr>\n",
              "    <tr>\n",
              "      <th>8</th>\n",
              "      <td>MS Dhoni</td>\n",
              "      <td>4450</td>\n",
              "    </tr>\n",
              "    <tr>\n",
              "      <th>2</th>\n",
              "      <td>RV Uthappa</td>\n",
              "      <td>4420</td>\n",
              "    </tr>\n",
              "    <tr>\n",
              "      <th>17</th>\n",
              "      <td>AB de Villiers</td>\n",
              "      <td>4414</td>\n",
              "    </tr>\n",
              "    <tr>\n",
              "      <th>6</th>\n",
              "      <td>G Gambhir</td>\n",
              "      <td>4219</td>\n",
              "    </tr>\n",
              "  </tbody>\n",
              "</table>\n",
              "</div>"
            ],
            "text/plain": [
              "           batsman  total_runs\n",
              "3          V Kohli        5426\n",
              "1         SK Raina        5386\n",
              "0        RG Sharma        4902\n",
              "11       DA Warner        4717\n",
              "5         S Dhawan        4601\n",
              "13        CH Gayle        4525\n",
              "8         MS Dhoni        4450\n",
              "2       RV Uthappa        4420\n",
              "17  AB de Villiers        4414\n",
              "6        G Gambhir        4219"
            ]
          },
          "metadata": {
            "tags": []
          },
          "execution_count": 34
        }
      ]
    },
    {
      "cell_type": "code",
      "metadata": {
        "id": "VdpXDyWfTPD5",
        "outputId": "68f9a7bc-255d-471d-ad0d-5366eb03b8f5",
        "colab": {
          "base_uri": "https://localhost:8080/",
          "height": 434
        }
      },
      "source": [
        "plt.tight_layout()\n",
        "# plt.xlabel(\"Batsman\", size=14)\n",
        "# plt.ylabel(\"Most Run Scorer\", size=14)\n",
        "plt.title(\"Top 10 Run Scorer\", size=18)\n",
        "plt.xticks(rotation=60)\n",
        "plt.tight_layout()\n",
        "sns.barplot(x='batsman',\n",
        "            y=\"total_runs\", \n",
        "            data=top_10_most_scorer);"
      ],
      "execution_count": 35,
      "outputs": [
        {
          "output_type": "display_data",
          "data": {
            "image/png": "[encoded data removed]",
            "text/plain": [
              "<Figure size 864x360 with 1 Axes>"
            ]
          },
          "metadata": {
            "tags": [],
            "needs_background": "light"
          }
        }
      ]
    },
    {
      "cell_type": "code",
      "metadata": {
        "id": "1YqBEH1nBkAU",
        "outputId": "612238c7-e992-46c8-958d-71caf3f22ecb",
        "colab": {
          "base_uri": "https://localhost:8080/",
          "height": 359
        }
      },
      "source": [
        "# Top 10 batsman having best avearge\n",
        "top_10_best_avg  = most_runs_average_df.nlargest(10,['average'])\n",
        "top_10_best_avg = pd.DataFrame(top_10_best_avg)\n",
        "top_10_best_avg[['batsman','average']] "
      ],
      "execution_count": 36,
      "outputs": [
        {
          "output_type": "execute_result",
          "data": {
            "text/html": [
              "<div>\n",
              "<style scoped>\n",
              "    .dataframe tbody tr th:only-of-type {\n",
              "        vertical-align: middle;\n",
              "    }\n",
              "\n",
              "    .dataframe tbody tr th {\n",
              "        vertical-align: top;\n",
              "    }\n",
              "\n",
              "    .dataframe thead th {\n",
              "        text-align: right;\n",
              "    }\n",
              "</style>\n",
              "<table border=\"1\" class=\"dataframe\">\n",
              "  <thead>\n",
              "    <tr style=\"text-align: right;\">\n",
              "      <th></th>\n",
              "      <th>batsman</th>\n",
              "      <th>average</th>\n",
              "    </tr>\n",
              "  </thead>\n",
              "  <tbody>\n",
              "    <tr>\n",
              "      <th>406</th>\n",
              "      <td>Iqbal Abdulla</td>\n",
              "      <td>88.000000</td>\n",
              "    </tr>\n",
              "    <tr>\n",
              "      <th>200</th>\n",
              "      <td>J Bairstow</td>\n",
              "      <td>57.375000</td>\n",
              "    </tr>\n",
              "    <tr>\n",
              "      <th>305</th>\n",
              "      <td>MN van Wyk</td>\n",
              "      <td>55.666667</td>\n",
              "    </tr>\n",
              "    <tr>\n",
              "      <th>284</th>\n",
              "      <td>PD Collingwood</td>\n",
              "      <td>50.750000</td>\n",
              "    </tr>\n",
              "    <tr>\n",
              "      <th>154</th>\n",
              "      <td>HM Amla</td>\n",
              "      <td>44.384615</td>\n",
              "    </tr>\n",
              "    <tr>\n",
              "      <th>17</th>\n",
              "      <td>AB de Villiers</td>\n",
              "      <td>42.442308</td>\n",
              "    </tr>\n",
              "    <tr>\n",
              "      <th>50</th>\n",
              "      <td>JP Duminy</td>\n",
              "      <td>41.448980</td>\n",
              "    </tr>\n",
              "    <tr>\n",
              "      <th>11</th>\n",
              "      <td>DA Warner</td>\n",
              "      <td>41.377193</td>\n",
              "    </tr>\n",
              "    <tr>\n",
              "      <th>13</th>\n",
              "      <td>CH Gayle</td>\n",
              "      <td>41.136364</td>\n",
              "    </tr>\n",
              "    <tr>\n",
              "      <th>99</th>\n",
              "      <td>ML Hayden</td>\n",
              "      <td>41.000000</td>\n",
              "    </tr>\n",
              "  </tbody>\n",
              "</table>\n",
              "</div>"
            ],
            "text/plain": [
              "            batsman    average\n",
              "406   Iqbal Abdulla  88.000000\n",
              "200      J Bairstow  57.375000\n",
              "305      MN van Wyk  55.666667\n",
              "284  PD Collingwood  50.750000\n",
              "154         HM Amla  44.384615\n",
              "17   AB de Villiers  42.442308\n",
              "50        JP Duminy  41.448980\n",
              "11        DA Warner  41.377193\n",
              "13         CH Gayle  41.136364\n",
              "99        ML Hayden  41.000000"
            ]
          },
          "metadata": {
            "tags": []
          },
          "execution_count": 36
        }
      ]
    },
    {
      "cell_type": "code",
      "metadata": {
        "id": "16x8QssFjqDU",
        "scrolled": false,
        "outputId": "00bbcadf-9294-44e6-fcea-71de3d47ae6d",
        "colab": {
          "base_uri": "https://localhost:8080/",
          "height": 446
        }
      },
      "source": [
        "plt.tight_layout()\n",
        "plt.title(\"Top 10 Best Average\", size=18)\n",
        "plt.xticks(rotation=60)\n",
        "plt.tight_layout()\n",
        "sns.barplot(x='batsman',\n",
        "            y=\"average\", \n",
        "            data=top_10_best_avg);"
      ],
      "execution_count": 37,
      "outputs": [
        {
          "output_type": "display_data",
          "data": {
            "image/png": "[encoded data removed]",
            "text/plain": [
              "<Figure size 864x360 with 1 Axes>"
            ]
          },
          "metadata": {
            "tags": [],
            "needs_background": "light"
          }
        }
      ]
    },
    {
      "cell_type": "code",
      "metadata": {
        "id": "pMpPS5UWBkAe",
        "scrolled": true,
        "outputId": "fef85750-3666-41af-c8a0-af149a9efc87",
        "colab": {
          "base_uri": "https://localhost:8080/",
          "height": 359
        }
      },
      "source": [
        "# Top 10 batsman having best strike rate\n",
        "top_10_best_strk_rt  = most_runs_average_df.nlargest(10,['strikerate'])\n",
        "top_10_best_strk_rt = pd.DataFrame(top_10_best_strk_rt)\n",
        "top_10_best_strk_rt[['batsman','strikerate']]"
      ],
      "execution_count": 38,
      "outputs": [
        {
          "output_type": "execute_result",
          "data": {
            "text/html": [
              "<div>\n",
              "<style scoped>\n",
              "    .dataframe tbody tr th:only-of-type {\n",
              "        vertical-align: middle;\n",
              "    }\n",
              "\n",
              "    .dataframe tbody tr th {\n",
              "        vertical-align: top;\n",
              "    }\n",
              "\n",
              "    .dataframe thead th {\n",
              "        text-align: right;\n",
              "    }\n",
              "</style>\n",
              "<table border=\"1\" class=\"dataframe\">\n",
              "  <thead>\n",
              "    <tr style=\"text-align: right;\">\n",
              "      <th></th>\n",
              "      <th>batsman</th>\n",
              "      <th>strikerate</th>\n",
              "    </tr>\n",
              "  </thead>\n",
              "  <tbody>\n",
              "    <tr>\n",
              "      <th>315</th>\n",
              "      <td>Umar Gul</td>\n",
              "      <td>205.263158</td>\n",
              "    </tr>\n",
              "    <tr>\n",
              "      <th>452</th>\n",
              "      <td>VRV Singh</td>\n",
              "      <td>200.000000</td>\n",
              "    </tr>\n",
              "    <tr>\n",
              "      <th>63</th>\n",
              "      <td>AD Russell</td>\n",
              "      <td>188.164894</td>\n",
              "    </tr>\n",
              "    <tr>\n",
              "      <th>287</th>\n",
              "      <td>LJ Wright</td>\n",
              "      <td>176.666667</td>\n",
              "    </tr>\n",
              "    <tr>\n",
              "      <th>213</th>\n",
              "      <td>Shahid Afridi</td>\n",
              "      <td>176.086957</td>\n",
              "    </tr>\n",
              "    <tr>\n",
              "      <th>161</th>\n",
              "      <td>K Gowtham</td>\n",
              "      <td>174.698795</td>\n",
              "    </tr>\n",
              "    <tr>\n",
              "      <th>288</th>\n",
              "      <td>S Curran</td>\n",
              "      <td>172.727273</td>\n",
              "    </tr>\n",
              "    <tr>\n",
              "      <th>300</th>\n",
              "      <td>SN Thakur</td>\n",
              "      <td>171.428571</td>\n",
              "    </tr>\n",
              "    <tr>\n",
              "      <th>365</th>\n",
              "      <td>ER Dwivedi</td>\n",
              "      <td>171.428571</td>\n",
              "    </tr>\n",
              "    <tr>\n",
              "      <th>68</th>\n",
              "      <td>SP Narine</td>\n",
              "      <td>171.397380</td>\n",
              "    </tr>\n",
              "  </tbody>\n",
              "</table>\n",
              "</div>"
            ],
            "text/plain": [
              "           batsman  strikerate\n",
              "315       Umar Gul  205.263158\n",
              "452      VRV Singh  200.000000\n",
              "63      AD Russell  188.164894\n",
              "287      LJ Wright  176.666667\n",
              "213  Shahid Afridi  176.086957\n",
              "161      K Gowtham  174.698795\n",
              "288       S Curran  172.727273\n",
              "300      SN Thakur  171.428571\n",
              "365     ER Dwivedi  171.428571\n",
              "68       SP Narine  171.397380"
            ]
          },
          "metadata": {
            "tags": []
          },
          "execution_count": 38
        }
      ]
    },
    {
      "cell_type": "code",
      "metadata": {
        "id": "nccQDmh-BkBT",
        "outputId": "79d55290-ee2c-4733-e4da-03198673cb47",
        "colab": {
          "base_uri": "https://localhost:8080/",
          "height": 432
        }
      },
      "source": [
        "plt.tight_layout()\n",
        "# plt.xlabel(\"Batsman\", size=14)\n",
        "# plt.ylabel(\"Strike Rate\", size=14)\n",
        "plt.title(\"Top 10 Best Strike Rate\", size=18)\n",
        "plt.xticks(rotation=60)\n",
        "plt.tight_layout()\n",
        "sns.barplot(x='batsman',\n",
        "            y=\"strikerate\", \n",
        "            data=top_10_best_strk_rt);"
      ],
      "execution_count": 39,
      "outputs": [
        {
          "output_type": "display_data",
          "data": {
            "image/png": "[encoded data removed]",
            "text/plain": [
              "<Figure size 864x360 with 1 Axes>"
            ]
          },
          "metadata": {
            "tags": [],
            "needs_background": "light"
          }
        }
      ]
    },
    {
      "cell_type": "code",
      "metadata": {
        "id": "JLpzunKVBj_f",
        "outputId": "f282a5ae-4fe0-4b63-ccbf-d769f1b30826",
        "colab": {
          "base_uri": "https://localhost:8080/",
          "height": 86
        }
      },
      "source": [
        "import jovian\n",
        "jovian.commit(project=project_name)"
      ],
      "execution_count": 40,
      "outputs": [
        {
          "output_type": "stream",
          "text": [
            "[jovian] Detected Colab notebook...\u001b[0m\n",
            "[jovian] Uploading colab notebook to Jovian...\u001b[0m\n",
            "[jovian] Committed successfully! https://jovian.ml/santosh0236/indian-premier-league-stats-and-analysis\u001b[0m\n"
          ],
          "name": "stdout"
        },
        {
          "output_type": "execute_result",
          "data": {
            "application/vnd.google.colaboratory.intrinsic+json": {
              "type": "string"
            },
            "text/plain": [
              "'https://jovian.ml/santosh0236/indian-premier-league-stats-and-analysis'"
            ]
          },
          "metadata": {
            "tags": []
          },
          "execution_count": 40
        }
      ]
    },
    {
      "cell_type": "markdown",
      "metadata": {
        "id": "TkTkXmscTPE3"
      },
      "source": [
        "**3) Most Scoring Team and Economiest Team across all the season till 2019 (IPL Final)**"
      ]
    },
    {
      "cell_type": "code",
      "metadata": {
        "id": "D87MelhUTPE3",
        "outputId": "c90c8b5f-056b-41e9-e3ff-cfaaed772745",
        "colab": {
          "base_uri": "https://localhost:8080/",
          "height": 297
        }
      },
      "source": [
        "most_scoring_team = deliveries_df.groupby('batting_team')['total_runs'].sum()\n",
        "most_scoring_team = pd.DataFrame(most_scoring_team)\n",
        "most_scoring_team = most_scoring_team.nlargest(20,[\"total_runs\"])\n",
        "most_scoring_team = most_scoring_team.reset_index(level='batting_team', col_level=1)\n",
        "most_scoring_team"
      ],
      "execution_count": 41,
      "outputs": [
        {
          "output_type": "execute_result",
          "data": {
            "text/html": [
              "<div>\n",
              "<style scoped>\n",
              "    .dataframe tbody tr th:only-of-type {\n",
              "        vertical-align: middle;\n",
              "    }\n",
              "\n",
              "    .dataframe tbody tr th {\n",
              "        vertical-align: top;\n",
              "    }\n",
              "\n",
              "    .dataframe thead th {\n",
              "        text-align: right;\n",
              "    }\n",
              "</style>\n",
              "<table border=\"1\" class=\"dataframe\">\n",
              "  <thead>\n",
              "    <tr style=\"text-align: right;\">\n",
              "      <th></th>\n",
              "      <th>batting_team</th>\n",
              "      <th>total_runs</th>\n",
              "    </tr>\n",
              "  </thead>\n",
              "  <tbody>\n",
              "    <tr>\n",
              "      <th>0</th>\n",
              "      <td>Rising Pune Supergiants</td>\n",
              "      <td>1941.0</td>\n",
              "    </tr>\n",
              "    <tr>\n",
              "      <th>1</th>\n",
              "      <td>Sunrisers Hyderabad</td>\n",
              "      <td>1923.0</td>\n",
              "    </tr>\n",
              "    <tr>\n",
              "      <th>2</th>\n",
              "      <td>Mumbai Indians</td>\n",
              "      <td>1884.0</td>\n",
              "    </tr>\n",
              "    <tr>\n",
              "      <th>3</th>\n",
              "      <td>Gujarat Lions</td>\n",
              "      <td>1871.0</td>\n",
              "    </tr>\n",
              "    <tr>\n",
              "      <th>4</th>\n",
              "      <td>Kolkata Knight Riders</td>\n",
              "      <td>1853.0</td>\n",
              "    </tr>\n",
              "    <tr>\n",
              "      <th>5</th>\n",
              "      <td>Delhi Capitals</td>\n",
              "      <td>1640.0</td>\n",
              "    </tr>\n",
              "    <tr>\n",
              "      <th>6</th>\n",
              "      <td>Kings XI Punjab</td>\n",
              "      <td>1548.0</td>\n",
              "    </tr>\n",
              "    <tr>\n",
              "      <th>7</th>\n",
              "      <td>Royal Challengers Bangalore</td>\n",
              "      <td>1526.0</td>\n",
              "    </tr>\n",
              "  </tbody>\n",
              "</table>\n",
              "</div>"
            ],
            "text/plain": [
              "                  batting_team  total_runs\n",
              "0      Rising Pune Supergiants      1941.0\n",
              "1          Sunrisers Hyderabad      1923.0\n",
              "2               Mumbai Indians      1884.0\n",
              "3                Gujarat Lions      1871.0\n",
              "4        Kolkata Knight Riders      1853.0\n",
              "5               Delhi Capitals      1640.0\n",
              "6              Kings XI Punjab      1548.0\n",
              "7  Royal Challengers Bangalore      1526.0"
            ]
          },
          "metadata": {
            "tags": []
          },
          "execution_count": 41
        }
      ]
    },
    {
      "cell_type": "code",
      "metadata": {
        "id": "FYxYZeliBkBl",
        "outputId": "fd82dcfd-7166-4b1b-89b1-c2970e7300a1",
        "colab": {
          "base_uri": "https://localhost:8080/",
          "height": 537
        }
      },
      "source": [
        "plt.title(\"Team Scored Across all The season\", size=18)\n",
        "plt.xticks(rotation=90)\n",
        "plt.tight_layout()\n",
        "sns.barplot(x='batting_team',\n",
        "            y=\"total_runs\", \n",
        "            data=most_scoring_team);"
      ],
      "execution_count": 42,
      "outputs": [
        {
          "output_type": "display_data",
          "data": {
            "image/png": "[encoded data removed]",
            "text/plain": [
              "<Figure size 864x360 with 1 Axes>"
            ]
          },
          "metadata": {
            "tags": [],
            "needs_background": "light"
          }
        }
      ]
    },
    {
      "cell_type": "code",
      "metadata": {
        "scrolled": false,
        "id": "sdCm4ynKTPFH",
        "outputId": "600a765a-163c-42ae-e319-a1b9122a8d12",
        "colab": {
          "base_uri": "https://localhost:8080/",
          "height": 328
        }
      },
      "source": [
        "score_against = deliveries_df.groupby('bowling_team')['total_runs'].sum()\n",
        "score_against = pd.DataFrame(score_against)\n",
        "score_against = score_against.nsmallest(20,[\"total_runs\"])\n",
        "score_against = score_against.reset_index(level='bowling_team', col_level=1)\n",
        "score_against"
      ],
      "execution_count": 43,
      "outputs": [
        {
          "output_type": "execute_result",
          "data": {
            "text/html": [
              "<div>\n",
              "<style scoped>\n",
              "    .dataframe tbody tr th:only-of-type {\n",
              "        vertical-align: middle;\n",
              "    }\n",
              "\n",
              "    .dataframe tbody tr th {\n",
              "        vertical-align: top;\n",
              "    }\n",
              "\n",
              "    .dataframe thead th {\n",
              "        text-align: right;\n",
              "    }\n",
              "</style>\n",
              "<table border=\"1\" class=\"dataframe\">\n",
              "  <thead>\n",
              "    <tr style=\"text-align: right;\">\n",
              "      <th></th>\n",
              "      <th>bowling_team</th>\n",
              "      <th>total_runs</th>\n",
              "    </tr>\n",
              "  </thead>\n",
              "  <tbody>\n",
              "    <tr>\n",
              "      <th>0</th>\n",
              "      <td>Mumbai</td>\n",
              "      <td>0.0</td>\n",
              "    </tr>\n",
              "    <tr>\n",
              "      <th>1</th>\n",
              "      <td>Kings XI Punjab</td>\n",
              "      <td>1583.0</td>\n",
              "    </tr>\n",
              "    <tr>\n",
              "      <th>2</th>\n",
              "      <td>Mumbai Indians</td>\n",
              "      <td>1651.0</td>\n",
              "    </tr>\n",
              "    <tr>\n",
              "      <th>3</th>\n",
              "      <td>Royal Challengers Bangalore</td>\n",
              "      <td>1723.0</td>\n",
              "    </tr>\n",
              "    <tr>\n",
              "      <th>4</th>\n",
              "      <td>Delhi Capitals</td>\n",
              "      <td>1738.0</td>\n",
              "    </tr>\n",
              "    <tr>\n",
              "      <th>5</th>\n",
              "      <td>Kolkata Knight Riders</td>\n",
              "      <td>1802.0</td>\n",
              "    </tr>\n",
              "    <tr>\n",
              "      <th>6</th>\n",
              "      <td>Sunrisers Hyderabad</td>\n",
              "      <td>1826.0</td>\n",
              "    </tr>\n",
              "    <tr>\n",
              "      <th>7</th>\n",
              "      <td>Rising Pune Supergiants</td>\n",
              "      <td>1924.0</td>\n",
              "    </tr>\n",
              "    <tr>\n",
              "      <th>8</th>\n",
              "      <td>Gujarat Lions</td>\n",
              "      <td>1939.0</td>\n",
              "    </tr>\n",
              "  </tbody>\n",
              "</table>\n",
              "</div>"
            ],
            "text/plain": [
              "                  bowling_team  total_runs\n",
              "0                       Mumbai         0.0\n",
              "1              Kings XI Punjab      1583.0\n",
              "2               Mumbai Indians      1651.0\n",
              "3  Royal Challengers Bangalore      1723.0\n",
              "4               Delhi Capitals      1738.0\n",
              "5        Kolkata Knight Riders      1802.0\n",
              "6          Sunrisers Hyderabad      1826.0\n",
              "7      Rising Pune Supergiants      1924.0\n",
              "8                Gujarat Lions      1939.0"
            ]
          },
          "metadata": {
            "tags": []
          },
          "execution_count": 43
        }
      ]
    },
    {
      "cell_type": "code",
      "metadata": {
        "id": "msDQ9s_eBkBu",
        "outputId": "d8725d73-aed6-43fe-cd8e-feedc8a36195",
        "colab": {
          "base_uri": "https://localhost:8080/",
          "height": 537
        }
      },
      "source": [
        "plt.title(\"Economiest Team Across all The season\", size=18)\n",
        "plt.xticks(rotation=90)\n",
        "plt.tight_layout()\n",
        "sns.barplot(x='bowling_team',\n",
        "            y=\"total_runs\", \n",
        "            data=score_against);"
      ],
      "execution_count": 44,
      "outputs": [
        {
          "output_type": "display_data",
          "data": {
            "image/png": "[encoded data removed]",
            "text/plain": [
              "<Figure size 864x360 with 1 Axes>"
            ]
          },
          "metadata": {
            "tags": [],
            "needs_background": "light"
          }
        }
      ]
    },
    {
      "cell_type": "code",
      "metadata": {
        "id": "KaJ5u5WRBkA8",
        "outputId": "cf48ee2d-3890-4c43-d671-b6ef5b9437e3",
        "colab": {
          "base_uri": "https://localhost:8080/",
          "height": 86
        }
      },
      "source": [
        "import jovian\n",
        "jovian.commit(project=project_name)"
      ],
      "execution_count": 45,
      "outputs": [
        {
          "output_type": "stream",
          "text": [
            "[jovian] Detected Colab notebook...\u001b[0m\n",
            "[jovian] Uploading colab notebook to Jovian...\u001b[0m\n",
            "[jovian] Committed successfully! https://jovian.ml/santosh0236/indian-premier-league-stats-and-analysis\u001b[0m\n"
          ],
          "name": "stdout"
        },
        {
          "output_type": "execute_result",
          "data": {
            "application/vnd.google.colaboratory.intrinsic+json": {
              "type": "string"
            },
            "text/plain": [
              "'https://jovian.ml/santosh0236/indian-premier-league-stats-and-analysis'"
            ]
          },
          "metadata": {
            "tags": []
          },
          "execution_count": 45
        }
      ]
    },
    {
      "cell_type": "markdown",
      "metadata": {
        "id": "RM-X3-MfTPFX"
      },
      "source": [
        "**4) Most successful Player (Based on Man Of the Match count)**"
      ]
    },
    {
      "cell_type": "code",
      "metadata": {
        "id": "8dXyNtnITPFY",
        "outputId": "79a342b4-066c-441b-86ca-d9a87c23dfd7",
        "colab": {
          "base_uri": "https://localhost:8080/",
          "height": 359
        }
      },
      "source": [
        "mom_cnt =  matches_df.groupby('player_of_match')[['id']].count()\n",
        "mom_cnt = pd.DataFrame(mom_cnt)\n",
        "mom_cnt = mom_cnt.rename(columns={'id':'pom_count'})\n",
        "mom_cnt = mom_cnt.reset_index(level='player_of_match', col_level=1)\n",
        "mom_cnt = mom_cnt.nlargest(10,['pom_count'])\n",
        "mom_cnt "
      ],
      "execution_count": 46,
      "outputs": [
        {
          "output_type": "execute_result",
          "data": {
            "text/html": [
              "<div>\n",
              "<style scoped>\n",
              "    .dataframe tbody tr th:only-of-type {\n",
              "        vertical-align: middle;\n",
              "    }\n",
              "\n",
              "    .dataframe tbody tr th {\n",
              "        vertical-align: top;\n",
              "    }\n",
              "\n",
              "    .dataframe thead th {\n",
              "        text-align: right;\n",
              "    }\n",
              "</style>\n",
              "<table border=\"1\" class=\"dataframe\">\n",
              "  <thead>\n",
              "    <tr style=\"text-align: right;\">\n",
              "      <th></th>\n",
              "      <th>player_of_match</th>\n",
              "      <th>pom_count</th>\n",
              "    </tr>\n",
              "  </thead>\n",
              "  <tbody>\n",
              "    <tr>\n",
              "      <th>35</th>\n",
              "      <td>CH Gayle</td>\n",
              "      <td>21</td>\n",
              "    </tr>\n",
              "    <tr>\n",
              "      <th>10</th>\n",
              "      <td>AB de Villiers</td>\n",
              "      <td>20</td>\n",
              "    </tr>\n",
              "    <tr>\n",
              "      <th>42</th>\n",
              "      <td>DA Warner</td>\n",
              "      <td>17</td>\n",
              "    </tr>\n",
              "    <tr>\n",
              "      <th>137</th>\n",
              "      <td>MS Dhoni</td>\n",
              "      <td>17</td>\n",
              "    </tr>\n",
              "    <tr>\n",
              "      <th>167</th>\n",
              "      <td>RG Sharma</td>\n",
              "      <td>17</td>\n",
              "    </tr>\n",
              "    <tr>\n",
              "      <th>222</th>\n",
              "      <td>YK Pathan</td>\n",
              "      <td>16</td>\n",
              "    </tr>\n",
              "    <tr>\n",
              "      <th>201</th>\n",
              "      <td>SR Watson</td>\n",
              "      <td>15</td>\n",
              "    </tr>\n",
              "    <tr>\n",
              "      <th>191</th>\n",
              "      <td>SK Raina</td>\n",
              "      <td>14</td>\n",
              "    </tr>\n",
              "    <tr>\n",
              "      <th>56</th>\n",
              "      <td>G Gambhir</td>\n",
              "      <td>13</td>\n",
              "    </tr>\n",
              "    <tr>\n",
              "      <th>18</th>\n",
              "      <td>AM Rahane</td>\n",
              "      <td>12</td>\n",
              "    </tr>\n",
              "  </tbody>\n",
              "</table>\n",
              "</div>"
            ],
            "text/plain": [
              "    player_of_match  pom_count\n",
              "35         CH Gayle         21\n",
              "10   AB de Villiers         20\n",
              "42        DA Warner         17\n",
              "137        MS Dhoni         17\n",
              "167       RG Sharma         17\n",
              "222       YK Pathan         16\n",
              "201       SR Watson         15\n",
              "191        SK Raina         14\n",
              "56        G Gambhir         13\n",
              "18        AM Rahane         12"
            ]
          },
          "metadata": {
            "tags": []
          },
          "execution_count": 46
        }
      ]
    },
    {
      "cell_type": "code",
      "metadata": {
        "id": "H4RFm_hCTPFn",
        "outputId": "85ae494a-6b48-42dc-d3d5-bb0c7f1ac9c8",
        "colab": {
          "base_uri": "https://localhost:8080/",
          "height": 442
        }
      },
      "source": [
        "plt.title(\"Most Man of the Match Winner Across all The season\", size=18)\n",
        "plt.xticks(rotation=90)\n",
        "plt.tight_layout()\n",
        "sns.barplot(x='player_of_match',\n",
        "            y=\"pom_count\", \n",
        "            data=mom_cnt);"
      ],
      "execution_count": 47,
      "outputs": [
        {
          "output_type": "display_data",
          "data": {
            "image/png": "[encoded data removed]",
            "text/plain": [
              "<Figure size 864x360 with 1 Axes>"
            ]
          },
          "metadata": {
            "tags": [],
            "needs_background": "light"
          }
        }
      ]
    },
    {
      "cell_type": "code",
      "metadata": {
        "scrolled": true,
        "id": "TzxHwowOTPFz",
        "outputId": "4eaaac25-7c84-4357-ed7d-8f092526c356",
        "colab": {
          "base_uri": "https://localhost:8080/",
          "height": 86
        }
      },
      "source": [
        "import jovian\n",
        "jovian.commit(project=project_name)"
      ],
      "execution_count": 48,
      "outputs": [
        {
          "output_type": "stream",
          "text": [
            "[jovian] Detected Colab notebook...\u001b[0m\n",
            "[jovian] Uploading colab notebook to Jovian...\u001b[0m\n",
            "[jovian] Committed successfully! https://jovian.ml/santosh0236/indian-premier-league-stats-and-analysis\u001b[0m\n"
          ],
          "name": "stdout"
        },
        {
          "output_type": "execute_result",
          "data": {
            "application/vnd.google.colaboratory.intrinsic+json": {
              "type": "string"
            },
            "text/plain": [
              "'https://jovian.ml/santosh0236/indian-premier-league-stats-and-analysis'"
            ]
          },
          "metadata": {
            "tags": []
          },
          "execution_count": 48
        }
      ]
    },
    {
      "cell_type": "markdown",
      "metadata": {
        "id": "Ad5wv9e0i-2m"
      },
      "source": [
        "**5) How many players represent their country? Country wise player distribution.**"
      ]
    },
    {
      "cell_type": "code",
      "metadata": {
        "id": "uLjalfGLBkCJ",
        "outputId": "df97cbcc-8e04-4a85-b445-d04f8b0b2d7e",
        "colab": {
          "base_uri": "https://localhost:8080/",
          "height": 221
        }
      },
      "source": [
        "players_df.info()"
      ],
      "execution_count": 49,
      "outputs": [
        {
          "output_type": "stream",
          "text": [
            "<class 'pandas.core.frame.DataFrame'>\n",
            "RangeIndex: 566 entries, 0 to 565\n",
            "Data columns (total 5 columns):\n",
            " #   Column         Non-Null Count  Dtype \n",
            "---  ------         --------------  ----- \n",
            " 0   Player_Name    566 non-null    object\n",
            " 1   DOB            471 non-null    object\n",
            " 2   Batting_Hand   566 non-null    object\n",
            " 3   Bowling_Skill  502 non-null    object\n",
            " 4   Country        566 non-null    object\n",
            "dtypes: object(5)\n",
            "memory usage: 22.2+ KB\n"
          ],
          "name": "stdout"
        }
      ]
    },
    {
      "cell_type": "code",
      "metadata": {
        "id": "9wvObISjaMio",
        "scrolled": false,
        "outputId": "0f3a8691-e29c-4de7-94a9-eee89a8106ca",
        "colab": {
          "base_uri": "https://localhost:8080/",
          "height": 419
        }
      },
      "source": [
        "players_df[['Country','Player_Name']]"
      ],
      "execution_count": 50,
      "outputs": [
        {
          "output_type": "execute_result",
          "data": {
            "text/html": [
              "<div>\n",
              "<style scoped>\n",
              "    .dataframe tbody tr th:only-of-type {\n",
              "        vertical-align: middle;\n",
              "    }\n",
              "\n",
              "    .dataframe tbody tr th {\n",
              "        vertical-align: top;\n",
              "    }\n",
              "\n",
              "    .dataframe thead th {\n",
              "        text-align: right;\n",
              "    }\n",
              "</style>\n",
              "<table border=\"1\" class=\"dataframe\">\n",
              "  <thead>\n",
              "    <tr style=\"text-align: right;\">\n",
              "      <th></th>\n",
              "      <th>Country</th>\n",
              "      <th>Player_Name</th>\n",
              "    </tr>\n",
              "  </thead>\n",
              "  <tbody>\n",
              "    <tr>\n",
              "      <th>0</th>\n",
              "      <td>India</td>\n",
              "      <td>A Ashish Reddy</td>\n",
              "    </tr>\n",
              "    <tr>\n",
              "      <th>1</th>\n",
              "      <td>India</td>\n",
              "      <td>A Chandila</td>\n",
              "    </tr>\n",
              "    <tr>\n",
              "      <th>2</th>\n",
              "      <td>India</td>\n",
              "      <td>A Chopra</td>\n",
              "    </tr>\n",
              "    <tr>\n",
              "      <th>3</th>\n",
              "      <td>India</td>\n",
              "      <td>A Choudhary</td>\n",
              "    </tr>\n",
              "    <tr>\n",
              "      <th>4</th>\n",
              "      <td>Sri Lanka</td>\n",
              "      <td>A Dananjaya</td>\n",
              "    </tr>\n",
              "    <tr>\n",
              "      <th>...</th>\n",
              "      <td>...</td>\n",
              "      <td>...</td>\n",
              "    </tr>\n",
              "    <tr>\n",
              "      <th>561</th>\n",
              "      <td>Pakistan</td>\n",
              "      <td>Younis Khan</td>\n",
              "    </tr>\n",
              "    <tr>\n",
              "      <th>562</th>\n",
              "      <td>India</td>\n",
              "      <td>YS Chahal</td>\n",
              "    </tr>\n",
              "    <tr>\n",
              "      <th>563</th>\n",
              "      <td>India</td>\n",
              "      <td>Yuvraj Singh</td>\n",
              "    </tr>\n",
              "    <tr>\n",
              "      <th>564</th>\n",
              "      <td>India</td>\n",
              "      <td>YV Takawale</td>\n",
              "    </tr>\n",
              "    <tr>\n",
              "      <th>565</th>\n",
              "      <td>India</td>\n",
              "      <td>Z Khan</td>\n",
              "    </tr>\n",
              "  </tbody>\n",
              "</table>\n",
              "<p>566 rows × 2 columns</p>\n",
              "</div>"
            ],
            "text/plain": [
              "       Country     Player_Name\n",
              "0        India  A Ashish Reddy\n",
              "1        India      A Chandila\n",
              "2        India        A Chopra\n",
              "3        India     A Choudhary\n",
              "4    Sri Lanka     A Dananjaya\n",
              "..         ...             ...\n",
              "561   Pakistan     Younis Khan\n",
              "562      India       YS Chahal\n",
              "563      India    Yuvraj Singh\n",
              "564      India     YV Takawale\n",
              "565      India          Z Khan\n",
              "\n",
              "[566 rows x 2 columns]"
            ]
          },
          "metadata": {
            "tags": []
          },
          "execution_count": 50
        }
      ]
    },
    {
      "cell_type": "code",
      "metadata": {
        "scrolled": false,
        "id": "xYydWeqBTPGR",
        "outputId": "70b012e0-8939-4089-bba6-5ee40cefdee0",
        "colab": {
          "base_uri": "https://localhost:8080/",
          "height": 452
        }
      },
      "source": [
        "players_df.groupby('Country')[['Player_Name']].count()"
      ],
      "execution_count": 51,
      "outputs": [
        {
          "output_type": "execute_result",
          "data": {
            "text/html": [
              "<div>\n",
              "<style scoped>\n",
              "    .dataframe tbody tr th:only-of-type {\n",
              "        vertical-align: middle;\n",
              "    }\n",
              "\n",
              "    .dataframe tbody tr th {\n",
              "        vertical-align: top;\n",
              "    }\n",
              "\n",
              "    .dataframe thead th {\n",
              "        text-align: right;\n",
              "    }\n",
              "</style>\n",
              "<table border=\"1\" class=\"dataframe\">\n",
              "  <thead>\n",
              "    <tr style=\"text-align: right;\">\n",
              "      <th></th>\n",
              "      <th>Player_Name</th>\n",
              "    </tr>\n",
              "    <tr>\n",
              "      <th>Country</th>\n",
              "      <th></th>\n",
              "    </tr>\n",
              "  </thead>\n",
              "  <tbody>\n",
              "    <tr>\n",
              "      <th>Afghanistan</th>\n",
              "      <td>3</td>\n",
              "    </tr>\n",
              "    <tr>\n",
              "      <th>Australia</th>\n",
              "      <td>77</td>\n",
              "    </tr>\n",
              "    <tr>\n",
              "      <th>Bangladesh</th>\n",
              "      <td>5</td>\n",
              "    </tr>\n",
              "    <tr>\n",
              "      <th>England</th>\n",
              "      <td>30</td>\n",
              "    </tr>\n",
              "    <tr>\n",
              "      <th>India</th>\n",
              "      <td>313</td>\n",
              "    </tr>\n",
              "    <tr>\n",
              "      <th>Netherlands</th>\n",
              "      <td>1</td>\n",
              "    </tr>\n",
              "    <tr>\n",
              "      <th>New Zealand</th>\n",
              "      <td>28</td>\n",
              "    </tr>\n",
              "    <tr>\n",
              "      <th>Pakistan</th>\n",
              "      <td>13</td>\n",
              "    </tr>\n",
              "    <tr>\n",
              "      <th>South Africa</th>\n",
              "      <td>45</td>\n",
              "    </tr>\n",
              "    <tr>\n",
              "      <th>Sri Lanka</th>\n",
              "      <td>21</td>\n",
              "    </tr>\n",
              "    <tr>\n",
              "      <th>West Indies</th>\n",
              "      <td>28</td>\n",
              "    </tr>\n",
              "    <tr>\n",
              "      <th>Zimbabwea</th>\n",
              "      <td>2</td>\n",
              "    </tr>\n",
              "  </tbody>\n",
              "</table>\n",
              "</div>"
            ],
            "text/plain": [
              "              Player_Name\n",
              "Country                  \n",
              "Afghanistan             3\n",
              "Australia              77\n",
              "Bangladesh              5\n",
              "England                30\n",
              "India                 313\n",
              "Netherlands             1\n",
              "New Zealand            28\n",
              "Pakistan               13\n",
              "South Africa           45\n",
              "Sri Lanka              21\n",
              "West Indies            28\n",
              "Zimbabwea               2"
            ]
          },
          "metadata": {
            "tags": []
          },
          "execution_count": 51
        }
      ]
    },
    {
      "cell_type": "code",
      "metadata": {
        "id": "b4N1Sr9hBj-b",
        "scrolled": false,
        "outputId": "ddf10418-8cd2-403f-bd68-0841f19777d0",
        "colab": {
          "base_uri": "https://localhost:8080/",
          "height": 452
        }
      },
      "source": [
        "countrywise_plr_cnt_df = players_df.groupby('Country')[['Player_Name']].count()\n",
        "countrywise_plr_cnt_df = countrywise_plr_cnt_df.rename(columns = {'Country':'Country', \"Player_Name\": \"Count\"})\n",
        "countrywise_plr_cnt_df = countrywise_plr_cnt_df.nlargest(20,['Count'])\n",
        "countrywise_plr_cnt_df"
      ],
      "execution_count": 52,
      "outputs": [
        {
          "output_type": "execute_result",
          "data": {
            "text/html": [
              "<div>\n",
              "<style scoped>\n",
              "    .dataframe tbody tr th:only-of-type {\n",
              "        vertical-align: middle;\n",
              "    }\n",
              "\n",
              "    .dataframe tbody tr th {\n",
              "        vertical-align: top;\n",
              "    }\n",
              "\n",
              "    .dataframe thead th {\n",
              "        text-align: right;\n",
              "    }\n",
              "</style>\n",
              "<table border=\"1\" class=\"dataframe\">\n",
              "  <thead>\n",
              "    <tr style=\"text-align: right;\">\n",
              "      <th></th>\n",
              "      <th>Count</th>\n",
              "    </tr>\n",
              "    <tr>\n",
              "      <th>Country</th>\n",
              "      <th></th>\n",
              "    </tr>\n",
              "  </thead>\n",
              "  <tbody>\n",
              "    <tr>\n",
              "      <th>India</th>\n",
              "      <td>313</td>\n",
              "    </tr>\n",
              "    <tr>\n",
              "      <th>Australia</th>\n",
              "      <td>77</td>\n",
              "    </tr>\n",
              "    <tr>\n",
              "      <th>South Africa</th>\n",
              "      <td>45</td>\n",
              "    </tr>\n",
              "    <tr>\n",
              "      <th>England</th>\n",
              "      <td>30</td>\n",
              "    </tr>\n",
              "    <tr>\n",
              "      <th>New Zealand</th>\n",
              "      <td>28</td>\n",
              "    </tr>\n",
              "    <tr>\n",
              "      <th>West Indies</th>\n",
              "      <td>28</td>\n",
              "    </tr>\n",
              "    <tr>\n",
              "      <th>Sri Lanka</th>\n",
              "      <td>21</td>\n",
              "    </tr>\n",
              "    <tr>\n",
              "      <th>Pakistan</th>\n",
              "      <td>13</td>\n",
              "    </tr>\n",
              "    <tr>\n",
              "      <th>Bangladesh</th>\n",
              "      <td>5</td>\n",
              "    </tr>\n",
              "    <tr>\n",
              "      <th>Afghanistan</th>\n",
              "      <td>3</td>\n",
              "    </tr>\n",
              "    <tr>\n",
              "      <th>Zimbabwea</th>\n",
              "      <td>2</td>\n",
              "    </tr>\n",
              "    <tr>\n",
              "      <th>Netherlands</th>\n",
              "      <td>1</td>\n",
              "    </tr>\n",
              "  </tbody>\n",
              "</table>\n",
              "</div>"
            ],
            "text/plain": [
              "              Count\n",
              "Country            \n",
              "India           313\n",
              "Australia        77\n",
              "South Africa     45\n",
              "England          30\n",
              "New Zealand      28\n",
              "West Indies      28\n",
              "Sri Lanka        21\n",
              "Pakistan         13\n",
              "Bangladesh        5\n",
              "Afghanistan       3\n",
              "Zimbabwea         2\n",
              "Netherlands       1"
            ]
          },
          "metadata": {
            "tags": []
          },
          "execution_count": 52
        }
      ]
    },
    {
      "cell_type": "code",
      "metadata": {
        "id": "uQz39s3BTPGj",
        "outputId": "ffd770df-3c0d-4490-f35d-1435eb7852a1",
        "colab": {
          "base_uri": "https://localhost:8080/",
          "height": 421
        }
      },
      "source": [
        "countrywise_plr_cnt_df = countrywise_plr_cnt_df.reset_index(level='Country', col_level=1)\n",
        "countrywise_plr_cnt_df"
      ],
      "execution_count": 53,
      "outputs": [
        {
          "output_type": "execute_result",
          "data": {
            "text/html": [
              "<div>\n",
              "<style scoped>\n",
              "    .dataframe tbody tr th:only-of-type {\n",
              "        vertical-align: middle;\n",
              "    }\n",
              "\n",
              "    .dataframe tbody tr th {\n",
              "        vertical-align: top;\n",
              "    }\n",
              "\n",
              "    .dataframe thead th {\n",
              "        text-align: right;\n",
              "    }\n",
              "</style>\n",
              "<table border=\"1\" class=\"dataframe\">\n",
              "  <thead>\n",
              "    <tr style=\"text-align: right;\">\n",
              "      <th></th>\n",
              "      <th>Country</th>\n",
              "      <th>Count</th>\n",
              "    </tr>\n",
              "  </thead>\n",
              "  <tbody>\n",
              "    <tr>\n",
              "      <th>0</th>\n",
              "      <td>India</td>\n",
              "      <td>313</td>\n",
              "    </tr>\n",
              "    <tr>\n",
              "      <th>1</th>\n",
              "      <td>Australia</td>\n",
              "      <td>77</td>\n",
              "    </tr>\n",
              "    <tr>\n",
              "      <th>2</th>\n",
              "      <td>South Africa</td>\n",
              "      <td>45</td>\n",
              "    </tr>\n",
              "    <tr>\n",
              "      <th>3</th>\n",
              "      <td>England</td>\n",
              "      <td>30</td>\n",
              "    </tr>\n",
              "    <tr>\n",
              "      <th>4</th>\n",
              "      <td>New Zealand</td>\n",
              "      <td>28</td>\n",
              "    </tr>\n",
              "    <tr>\n",
              "      <th>5</th>\n",
              "      <td>West Indies</td>\n",
              "      <td>28</td>\n",
              "    </tr>\n",
              "    <tr>\n",
              "      <th>6</th>\n",
              "      <td>Sri Lanka</td>\n",
              "      <td>21</td>\n",
              "    </tr>\n",
              "    <tr>\n",
              "      <th>7</th>\n",
              "      <td>Pakistan</td>\n",
              "      <td>13</td>\n",
              "    </tr>\n",
              "    <tr>\n",
              "      <th>8</th>\n",
              "      <td>Bangladesh</td>\n",
              "      <td>5</td>\n",
              "    </tr>\n",
              "    <tr>\n",
              "      <th>9</th>\n",
              "      <td>Afghanistan</td>\n",
              "      <td>3</td>\n",
              "    </tr>\n",
              "    <tr>\n",
              "      <th>10</th>\n",
              "      <td>Zimbabwea</td>\n",
              "      <td>2</td>\n",
              "    </tr>\n",
              "    <tr>\n",
              "      <th>11</th>\n",
              "      <td>Netherlands</td>\n",
              "      <td>1</td>\n",
              "    </tr>\n",
              "  </tbody>\n",
              "</table>\n",
              "</div>"
            ],
            "text/plain": [
              "         Country  Count\n",
              "0          India    313\n",
              "1      Australia     77\n",
              "2   South Africa     45\n",
              "3        England     30\n",
              "4    New Zealand     28\n",
              "5    West Indies     28\n",
              "6      Sri Lanka     21\n",
              "7       Pakistan     13\n",
              "8     Bangladesh      5\n",
              "9    Afghanistan      3\n",
              "10     Zimbabwea      2\n",
              "11   Netherlands      1"
            ]
          },
          "metadata": {
            "tags": []
          },
          "execution_count": 53
        }
      ]
    },
    {
      "cell_type": "code",
      "metadata": {
        "scrolled": false,
        "id": "3bo3Cq_FTPGz",
        "outputId": "ed13b737-33ab-4eea-a334-98f84a8c42be",
        "colab": {
          "base_uri": "https://localhost:8080/",
          "height": 417
        }
      },
      "source": [
        "countrywise_plr_cnt_df = pd.DataFrame(countrywise_plr_cnt_df)\n",
        "plt.tight_layout()\n",
        "plt.xlabel(\"Country\", size=14)\n",
        "plt.ylabel(\"Number of Players\", size=14)\n",
        "plt.title(\"Country Wise Player Distribution\", size=18)\n",
        "plt.xticks(rotation=60)\n",
        "plt.tight_layout()\n",
        "sns.barplot(x='Country',\n",
        "            y=\"Count\", \n",
        "            data=countrywise_plr_cnt_df);"
      ],
      "execution_count": 54,
      "outputs": [
        {
          "output_type": "display_data",
          "data": {
            "image/png": "[encoded data removed]",
            "text/plain": [
              "<Figure size 864x360 with 1 Axes>"
            ]
          },
          "metadata": {
            "tags": [],
            "needs_background": "light"
          }
        }
      ]
    },
    {
      "cell_type": "markdown",
      "metadata": {
        "id": "-FjugTPATPG4"
      },
      "source": [
        "**As per the graph (analysis) Australian players are the first choice among the international players.**"
      ]
    },
    {
      "cell_type": "code",
      "metadata": {
        "id": "rLf3XxZrBkDH",
        "outputId": "f15acd18-2e2e-4146-e2e4-a512540a573b",
        "colab": {
          "base_uri": "https://localhost:8080/",
          "height": 86
        }
      },
      "source": [
        "import jovian\n",
        "jovian.commit(project=project_name)"
      ],
      "execution_count": 55,
      "outputs": [
        {
          "output_type": "stream",
          "text": [
            "[jovian] Detected Colab notebook...\u001b[0m\n",
            "[jovian] Uploading colab notebook to Jovian...\u001b[0m\n",
            "[jovian] Committed successfully! https://jovian.ml/santosh0236/indian-premier-league-stats-and-analysis\u001b[0m\n"
          ],
          "name": "stdout"
        },
        {
          "output_type": "execute_result",
          "data": {
            "application/vnd.google.colaboratory.intrinsic+json": {
              "type": "string"
            },
            "text/plain": [
              "'https://jovian.ml/santosh0236/indian-premier-league-stats-and-analysis'"
            ]
          },
          "metadata": {
            "tags": []
          },
          "execution_count": 55
        }
      ]
    },
    {
      "cell_type": "markdown",
      "metadata": {
        "id": "EdqAg7gDTPHG"
      },
      "source": [
        "**6) Top 10 Busiest (Popular)  IPL City / venue.**"
      ]
    },
    {
      "cell_type": "code",
      "metadata": {
        "id": "bWpPDmGpTPHH",
        "outputId": "3812ade1-b45e-49e5-e120-9f0826db2fec",
        "colab": {
          "base_uri": "https://localhost:8080/",
          "height": 359
        }
      },
      "source": [
        "Venue_count = matches_df.groupby('city')[['venue']].count()\n",
        "Venue_count = pd.DataFrame(Venue_count)\n",
        "# Venue_count = Venue_count.set_index('venue')\n",
        "Venue_count = Venue_count.nlargest(10,[\"venue\"])\n",
        "Venue_count = Venue_count.rename(columns ={'venue': 'Match_Count'}, inplace = False)\n",
        "Venue_count = Venue_count.reset_index(level='city', col_level=1)\n",
        "Venue_count"
      ],
      "execution_count": 56,
      "outputs": [
        {
          "output_type": "execute_result",
          "data": {
            "text/html": [
              "<div>\n",
              "<style scoped>\n",
              "    .dataframe tbody tr th:only-of-type {\n",
              "        vertical-align: middle;\n",
              "    }\n",
              "\n",
              "    .dataframe tbody tr th {\n",
              "        vertical-align: top;\n",
              "    }\n",
              "\n",
              "    .dataframe thead th {\n",
              "        text-align: right;\n",
              "    }\n",
              "</style>\n",
              "<table border=\"1\" class=\"dataframe\">\n",
              "  <thead>\n",
              "    <tr style=\"text-align: right;\">\n",
              "      <th></th>\n",
              "      <th>city</th>\n",
              "      <th>Match_Count</th>\n",
              "    </tr>\n",
              "  </thead>\n",
              "  <tbody>\n",
              "    <tr>\n",
              "      <th>0</th>\n",
              "      <td>Mumbai</td>\n",
              "      <td>101</td>\n",
              "    </tr>\n",
              "    <tr>\n",
              "      <th>1</th>\n",
              "      <td>Kolkata</td>\n",
              "      <td>77</td>\n",
              "    </tr>\n",
              "    <tr>\n",
              "      <th>2</th>\n",
              "      <td>Delhi</td>\n",
              "      <td>74</td>\n",
              "    </tr>\n",
              "    <tr>\n",
              "      <th>3</th>\n",
              "      <td>Bangalore</td>\n",
              "      <td>66</td>\n",
              "    </tr>\n",
              "    <tr>\n",
              "      <th>4</th>\n",
              "      <td>Hyderabad</td>\n",
              "      <td>64</td>\n",
              "    </tr>\n",
              "    <tr>\n",
              "      <th>5</th>\n",
              "      <td>Chennai</td>\n",
              "      <td>57</td>\n",
              "    </tr>\n",
              "    <tr>\n",
              "      <th>6</th>\n",
              "      <td>Jaipur</td>\n",
              "      <td>47</td>\n",
              "    </tr>\n",
              "    <tr>\n",
              "      <th>7</th>\n",
              "      <td>Chandigarh</td>\n",
              "      <td>46</td>\n",
              "    </tr>\n",
              "    <tr>\n",
              "      <th>8</th>\n",
              "      <td>Pune</td>\n",
              "      <td>38</td>\n",
              "    </tr>\n",
              "    <tr>\n",
              "      <th>9</th>\n",
              "      <td>Durban</td>\n",
              "      <td>15</td>\n",
              "    </tr>\n",
              "  </tbody>\n",
              "</table>\n",
              "</div>"
            ],
            "text/plain": [
              "         city  Match_Count\n",
              "0      Mumbai          101\n",
              "1     Kolkata           77\n",
              "2       Delhi           74\n",
              "3   Bangalore           66\n",
              "4   Hyderabad           64\n",
              "5     Chennai           57\n",
              "6      Jaipur           47\n",
              "7  Chandigarh           46\n",
              "8        Pune           38\n",
              "9      Durban           15"
            ]
          },
          "metadata": {
            "tags": []
          },
          "execution_count": 56
        }
      ]
    },
    {
      "cell_type": "code",
      "metadata": {
        "scrolled": false,
        "id": "NXZQle2qTPHK",
        "outputId": "2cae9968-33c8-4c3a-9815-ea1dfa8222ff",
        "colab": {
          "base_uri": "https://localhost:8080/",
          "height": 426
        }
      },
      "source": [
        "plt.tight_layout()\n",
        "plt.title(\"City Wise Match Played\", size=18)\n",
        "plt.xticks(rotation=60)\n",
        "plt.tight_layout()\n",
        "sns.barplot(x='city',\n",
        "            y=\"Match_Count\", \n",
        "            data=Venue_count);"
      ],
      "execution_count": 57,
      "outputs": [
        {
          "output_type": "display_data",
          "data": {
            "image/png": "[encoded data removed]",
            "text/plain": [
              "<Figure size 864x360 with 1 Axes>"
            ]
          },
          "metadata": {
            "tags": [],
            "needs_background": "light"
          }
        }
      ]
    },
    {
      "cell_type": "markdown",
      "metadata": {
        "id": "KcCHLtfdkeqb"
      },
      "source": [
        "**7) No. of wins of each team throughout different seasons**"
      ]
    },
    {
      "cell_type": "code",
      "metadata": {
        "id": "LzO3LGGuBkCm",
        "scrolled": false,
        "outputId": "0074bf7c-d27e-4002-d6c0-58884dc40a1c",
        "colab": {
          "base_uri": "https://localhost:8080/",
          "height": 378
        }
      },
      "source": [
        "Chennai_Perf = matches_df.pivot_table(index = ['winner','Season'], aggfunc = 'size')\n",
        "Chennai_Perf=pd.DataFrame(Chennai_Perf)\n",
        "Chennai_Perf.rename(columns={0:'wins'},inplace=True)\n",
        "Chennai_Perf.reset_index(inplace=True)\n",
        "Chennai=Chennai_Perf[Chennai_Perf['winner']=='Chennai Super Kings']\n",
        "plt.xticks(rotation=60)\n",
        "plt.title('Performance of Chennai Super Kings across all IPL')\n",
        "plt.scatter('Season','wins',data=Chennai)\n",
        "plt.plot('Season','wins',data=Chennai,color='#cb522a',marker='1',linestyle='--',ms=16,mfc='#dd4c3a',mec='#dd4c3a');"
      ],
      "execution_count": 58,
      "outputs": [
        {
          "output_type": "display_data",
          "data": {
            "image/png": "[encoded data removed]",
            "text/plain": [
              "<Figure size 864x360 with 1 Axes>"
            ]
          },
          "metadata": {
            "tags": [],
            "needs_background": "light"
          }
        }
      ]
    },
    {
      "cell_type": "code",
      "metadata": {
        "id": "uGfqCLj2TPHY",
        "outputId": "f052a1de-d1cb-4efc-ee8b-2cfdb8cf0339",
        "colab": {
          "base_uri": "https://localhost:8080/",
          "height": 378
        }
      },
      "source": [
        "Delhi_Perf = matches_df.pivot_table(index = ['winner','Season'], aggfunc = 'size')\n",
        "Delhi_Perf =pd.DataFrame(Delhi_Perf)\n",
        "Delhi_Perf.rename(columns={0:'wins'},inplace=True)\n",
        "Delhi_Perf.reset_index(inplace=True)\n",
        "Delhi=Delhi_Perf[Delhi_Perf['winner']=='Delhi Capitals']\n",
        "plt.xticks(rotation=60)\n",
        "plt.title('Performance of Delhi Capitals across all IPL')\n",
        "plt.scatter('Season','wins',data=Delhi)\n",
        "plt.plot('Season','wins',data=Delhi,color='#cb522a',marker='2',linestyle='--',ms=16,mfc='#dd4c3a',mec='#dd4c3a');"
      ],
      "execution_count": 59,
      "outputs": [
        {
          "output_type": "display_data",
          "data": {
            "image/png": "[encoded data removed]",
            "text/plain": [
              "<Figure size 864x360 with 1 Axes>"
            ]
          },
          "metadata": {
            "tags": [],
            "needs_background": "light"
          }
        }
      ]
    },
    {
      "cell_type": "code",
      "metadata": {
        "id": "nMQOebx6TPHd",
        "outputId": "958505a0-1b0b-4a25-e7ea-35503fecc7db",
        "colab": {
          "base_uri": "https://localhost:8080/",
          "height": 378
        }
      },
      "source": [
        "Gujarat_Perf = matches_df.pivot_table(index = ['winner','Season'], aggfunc = 'size')\n",
        "Gujarat_Perf =pd.DataFrame(Gujarat_Perf)\n",
        "Gujarat_Perf.rename(columns={0:'wins'},inplace=True)\n",
        "Gujarat_Perf.reset_index(inplace=True)\n",
        "Gujarat=Gujarat_Perf[Gujarat_Perf['winner']=='Gujarat Lions']\n",
        "plt.xticks(rotation=60)\n",
        "plt.title('Performance of Gujarat Lions across all IPL')\n",
        "plt.scatter('Season','wins',data=Gujarat)\n",
        "plt.plot('Season','wins',data=Gujarat,color='#cb522a',marker='3',linestyle='--',ms=16,mfc='#dd4c3a',mec='#dd4c3a');"
      ],
      "execution_count": 60,
      "outputs": [
        {
          "output_type": "display_data",
          "data": {
            "image/png": "[encoded data removed]",
            "text/plain": [
              "<Figure size 864x360 with 1 Axes>"
            ]
          },
          "metadata": {
            "tags": [],
            "needs_background": "light"
          }
        }
      ]
    },
    {
      "cell_type": "code",
      "metadata": {
        "id": "1qfCBUepTPHk",
        "outputId": "c6e6a54d-bf62-4b1d-cbcb-1a97616f078d",
        "colab": {
          "base_uri": "https://localhost:8080/",
          "height": 378
        }
      },
      "source": [
        "Kings_Perf = matches_df.pivot_table(index = ['winner','Season'], aggfunc = 'size')\n",
        "Kings_Perf =pd.DataFrame(Gujarat_Perf)\n",
        "Kings_Perf.rename(columns={0:'wins'},inplace=True)\n",
        "Kings_Perf.reset_index(inplace=True)\n",
        "Kings=Kings_Perf[Kings_Perf['winner']=='Kings XI Punjab']\n",
        "plt.xticks(rotation=60)\n",
        "plt.title('Performance of Kings XI Punjab across all IPL')\n",
        "plt.scatter('Season','wins',data=Kings)\n",
        "plt.plot('Season','wins',data=Kings,color='#cb522a',marker='4',linestyle='--',ms=16,mfc='#dd4c3a',mec='#dd4c3a');"
      ],
      "execution_count": 61,
      "outputs": [
        {
          "output_type": "display_data",
          "data": {
            "image/png": "[encoded data removed]",
            "text/plain": [
              "<Figure size 864x360 with 1 Axes>"
            ]
          },
          "metadata": {
            "tags": [],
            "needs_background": "light"
          }
        }
      ]
    },
    {
      "cell_type": "code",
      "metadata": {
        "id": "TFZx6qBrTPHn",
        "outputId": "033687f5-eeba-4883-e23d-0babac2c9fd0",
        "colab": {
          "base_uri": "https://localhost:8080/",
          "height": 378
        }
      },
      "source": [
        "Kerala_Perf = matches_df.pivot_table(index = ['winner','Season'], aggfunc = 'size')\n",
        "Kerala_Perf =pd.DataFrame(Kerala_Perf)\n",
        "Kerala_Perf.rename(columns={0:'wins'},inplace=True)\n",
        "Kerala_Perf.reset_index(inplace=True)\n",
        "Kerala=Kerala_Perf[Kerala_Perf['winner']=='Kochi Tuskers Kerala']\n",
        "plt.xticks(rotation=60)\n",
        "plt.title('Performance of Kochi Tuskers Kerala across all IPL')\n",
        "plt.scatter('Season','wins',data=Kerala)\n",
        "plt.plot('Season','wins',data=Kerala,color='#cb522a',marker='d',linestyle='--',ms=16,mfc='#dd4c3a',mec='#dd4c3a');"
      ],
      "execution_count": 62,
      "outputs": [
        {
          "output_type": "display_data",
          "data": {
            "image/png": "[encoded data removed]",
            "text/plain": [
              "<Figure size 864x360 with 1 Axes>"
            ]
          },
          "metadata": {
            "tags": [],
            "needs_background": "light"
          }
        }
      ]
    },
    {
      "cell_type": "code",
      "metadata": {
        "id": "NQhiGtysBkDw",
        "scrolled": false,
        "outputId": "117f362e-08c9-45ca-f1ad-f560c0a25c79",
        "colab": {
          "base_uri": "https://localhost:8080/",
          "height": 378
        }
      },
      "source": [
        "Kolkata_Perf = matches_df.pivot_table(index = ['winner','Season'], aggfunc = 'size')\n",
        "Kolkata_Perf =pd.DataFrame(Kolkata_Perf)\n",
        "Kolkata_Perf.rename(columns={0:'wins'},inplace=True)\n",
        "Kolkata_Perf.reset_index(inplace=True)\n",
        "Kolkata=Kolkata_Perf[Kolkata_Perf['winner']=='Kolkata Knight Riders']\n",
        "plt.xticks(rotation=60)\n",
        "plt.title('Performance of Kolkata Knight Riders across all IPL')\n",
        "plt.scatter('Season','wins',data=Kolkata)\n",
        "plt.plot('Season','wins',data=Kolkata,color='#cb522a',marker='X',linestyle='--',ms=16,mfc='#dd4c3a',mec='#dd4c3a');"
      ],
      "execution_count": 63,
      "outputs": [
        {
          "output_type": "display_data",
          "data": {
            "image/png": "[encoded data removed]",
            "text/plain": [
              "<Figure size 864x360 with 1 Axes>"
            ]
          },
          "metadata": {
            "tags": [],
            "needs_background": "light"
          }
        }
      ]
    },
    {
      "cell_type": "code",
      "metadata": {
        "id": "L_wWF9BrBkC7",
        "outputId": "d2cfdfc1-1b9a-4999-9ba5-06b8359df319",
        "colab": {
          "base_uri": "https://localhost:8080/",
          "height": 378
        }
      },
      "source": [
        "Mumbai_Perf = matches_df.pivot_table(index = ['winner','Season'], aggfunc = 'size')\n",
        "Mumbai_Perf =pd.DataFrame(Mumbai_Perf)\n",
        "Mumbai_Perf.rename(columns={0:'wins'},inplace=True)\n",
        "Mumbai_Perf.reset_index(inplace=True)\n",
        "Mumbai=Mumbai_Perf[Mumbai_Perf['winner']=='Mumbai Indians']\n",
        "plt.xticks(rotation=60)\n",
        "plt.title('Performance of Mumbai Indians across all IPL')\n",
        "plt.scatter('Season','wins',data=Mumbai)\n",
        "plt.plot('Season','wins',data=Mumbai ,color='#cb522a',marker='+',linestyle='--',ms=16,mfc='#dd4c3a',mec='#dd4c3a');"
      ],
      "execution_count": 64,
      "outputs": [
        {
          "output_type": "display_data",
          "data": {
            "image/png": "[encoded data removed]",
            "text/plain": [
              "<Figure size 864x360 with 1 Axes>"
            ]
          },
          "metadata": {
            "tags": [],
            "needs_background": "light"
          }
        }
      ]
    },
    {
      "cell_type": "code",
      "metadata": {
        "id": "pKX6eBZfTPH7",
        "outputId": "10c99054-6140-4bb8-c6bb-bc0992e5a4c2",
        "colab": {
          "base_uri": "https://localhost:8080/",
          "height": 378
        }
      },
      "source": [
        "Pune_warrior_Perf = matches_df.pivot_table(index = ['winner','Season'], aggfunc = 'size')\n",
        "Pune_warrior_Perf = pd.DataFrame(Pune_warrior_Perf)\n",
        "Pune_warrior_Perf.rename(columns={0:'wins'},inplace=True)\n",
        "Pune_warrior_Perf.reset_index(inplace=True)\n",
        "Pune_warrior=Pune_warrior_Perf[Pune_warrior_Perf['winner']=='Pune Warriors']\n",
        "plt.xticks(rotation=60)\n",
        "plt.title('Performance of Rising Pune Warriors across all IPL')\n",
        "plt.scatter('Season','wins',data=Pune_warrior)\n",
        "plt.plot('Season','wins',data=Pune_warrior,color='#cb522a',marker='p',linestyle='--',ms=16,mfc='#dd4c3a',mec='#dd4c3a');"
      ],
      "execution_count": 65,
      "outputs": [
        {
          "output_type": "display_data",
          "data": {
            "image/png": "[encoded data removed]",
            "text/plain": [
              "<Figure size 864x360 with 1 Axes>"
            ]
          },
          "metadata": {
            "tags": [],
            "needs_background": "light"
          }
        }
      ]
    },
    {
      "cell_type": "code",
      "metadata": {
        "id": "ygKDyhwJBkDp",
        "scrolled": false,
        "outputId": "a5eed7d3-301f-4773-8795-6ed1edab13d4",
        "colab": {
          "base_uri": "https://localhost:8080/",
          "height": 378
        }
      },
      "source": [
        "Bangalore_Perf = matches_df.pivot_table(index = ['winner','Season'], aggfunc = 'size')\n",
        "Bangalore_Perf =pd.DataFrame(Bangalore_Perf)\n",
        "Bangalore_Perf.rename(columns={0:'wins'},inplace=True)\n",
        "Bangalore_Perf.reset_index(inplace=True)\n",
        "Bangalore=Bangalore_Perf[Bangalore_Perf['winner']=='Royal Challengers Bangalore']\n",
        "plt.xticks(rotation=60)\n",
        "plt.title('Performance of Royal Challengers Bangalore across all IPL')\n",
        "plt.scatter('Season','wins',data=Bangalore)\n",
        "plt.plot('Season','wins',data=Bangalore,color='#cb522a',marker='8',linestyle='--',ms=16,mfc='#dd4c3a',mec='#dd4c3a');"
      ],
      "execution_count": 66,
      "outputs": [
        {
          "output_type": "display_data",
          "data": {
            "image/png": "[encoded data removed]",
            "text/plain": [
              "<Figure size 864x360 with 1 Axes>"
            ]
          },
          "metadata": {
            "tags": [],
            "needs_background": "light"
          }
        }
      ]
    },
    {
      "cell_type": "code",
      "metadata": {
        "id": "GCUWLenLTPIE",
        "outputId": "105248c6-377a-4d65-faae-fbccd871e2f0",
        "colab": {
          "base_uri": "https://localhost:8080/",
          "height": 378
        }
      },
      "source": [
        "Rajasthan_Perf = matches_df.pivot_table(index = ['winner','Season'], aggfunc = 'size')\n",
        "Rajasthan_Perf =pd.DataFrame(Rajasthan_Perf)\n",
        "Rajasthan_Perf.rename(columns={0:'wins'},inplace=True)\n",
        "Rajasthan_Perf.reset_index(inplace=True)\n",
        "Rajasthan=Rajasthan_Perf[Rajasthan_Perf['winner']=='Rajasthan Royals']\n",
        "plt.xticks(rotation=60)\n",
        "plt.title('Performance of Rajasthan Royals across all IPL')\n",
        "plt.scatter('Season','wins',data=Rajasthan)\n",
        "plt.plot('Season','wins',data=Rajasthan,color='#cb522a',marker='h',linestyle='--',ms=16,mfc='#dd4c3a',mec='#dd4c3a');"
      ],
      "execution_count": 67,
      "outputs": [
        {
          "output_type": "display_data",
          "data": {
            "image/png": "[encoded data removed]",
            "text/plain": [
              "<Figure size 864x360 with 1 Axes>"
            ]
          },
          "metadata": {
            "tags": [],
            "needs_background": "light"
          }
        }
      ]
    },
    {
      "cell_type": "code",
      "metadata": {
        "id": "-LIFGA_cTPIO",
        "outputId": "8eaeacbb-e593-48fc-a86e-e4693ca39a2a",
        "colab": {
          "base_uri": "https://localhost:8080/",
          "height": 378
        }
      },
      "source": [
        "Pune_gaints_Perf = matches_df.pivot_table(index = ['winner','Season'], aggfunc = 'size')\n",
        "Pune_gaints_Perf =pd.DataFrame(Pune_gaints_Perf)\n",
        "Pune_gaints_Perf.rename(columns={0:'wins'},inplace=True)\n",
        "Pune_gaints_Perf.reset_index(inplace=True)\n",
        "Pune_gaints=Pune_gaints_Perf[Pune_gaints_Perf['winner']=='Rising Pune Supergiants']\n",
        "plt.xticks(rotation=60)\n",
        "plt.title('Performance of Rising Pune Supergiants across all IPL')\n",
        "plt.scatter('Season','wins',data=Pune_gaints)\n",
        "plt.plot('Season','wins',data=Pune_gaints,color='#cb522a',marker='s',linestyle='--',ms=16,mfc='#dd4c3a',mec='#dd4c3a');"
      ],
      "execution_count": 68,
      "outputs": [
        {
          "output_type": "display_data",
          "data": {
            "image/png": "[encoded data removed]",
            "text/plain": [
              "<Figure size 864x360 with 1 Axes>"
            ]
          },
          "metadata": {
            "tags": [],
            "needs_background": "light"
          }
        }
      ]
    },
    {
      "cell_type": "code",
      "metadata": {
        "id": "fWTRl4CdTPIW",
        "outputId": "b01953a2-efcd-4e5c-f1fc-113503c734bd",
        "colab": {
          "base_uri": "https://localhost:8080/",
          "height": 378
        }
      },
      "source": [
        "Hyderabad_Perf = matches_df.pivot_table(index = ['winner','Season'], aggfunc = 'size')\n",
        "Hyderabad_Perf =pd.DataFrame(Hyderabad_Perf)\n",
        "Hyderabad_Perf.rename(columns={0:'wins'},inplace=True)\n",
        "Hyderabad_Perf.reset_index(inplace=True)\n",
        "Hyderabad=Hyderabad_Perf[Hyderabad_Perf['winner']=='Sunrisers Hyderabad']\n",
        "plt.xticks(rotation=60)\n",
        "plt.title('Performance of Sunrisers Hyderabad across all IPL')\n",
        "plt.scatter('Season','wins',data=Hyderabad)\n",
        "plt.plot('Season','wins',data=Hyderabad,color='#cb522a',marker=10,linestyle='--',ms=16,mfc='#dd4c3a',mec='#dd4c3a');"
      ],
      "execution_count": 69,
      "outputs": [
        {
          "output_type": "display_data",
          "data": {
            "image/png": "[encoded data removed]",
            "text/plain": [
              "<Figure size 864x360 with 1 Axes>"
            ]
          },
          "metadata": {
            "tags": [],
            "needs_background": "light"
          }
        }
      ]
    },
    {
      "cell_type": "markdown",
      "metadata": {
        "id": "x4IRMqPhTPIb"
      },
      "source": [
        "## Inferences and Conclusion\n",
        "\n",
        "I have analysed this IPL data in very simple form. I have drawn some simple graphs for comparing team and individual performance and popular city/venue. Using this IPL data I can conclude on the following Result: \n",
        "\n",
        "- **Right Handed batsman is Dominating the IPL more than Left Handed batsman.**\n",
        "\n",
        "- **Virat Kohli is the leading scorer among all the batsman**\n",
        "\n",
        "- **Iqbal Abdulla has the best average among all the players**\n",
        "\n",
        "- **Umar Gul has the best strike rate among all the players**\n",
        "\n",
        "- **Mumbai Indians is top scorer among all the team across all the season.**\n",
        "\n",
        "- **Most economic Team is  Rajasthan Royals means against RR it is very difficult to score against them**\n",
        "\n",
        "- **Chris Gayle is the top performer among all the season with highest Man of the Match Award.** \n",
        "\n",
        "- **Australian is the 1st choice among all International Players.**\n",
        "\n",
        "- **Mumbai is the most popular venue among all the venue.** \n",
        "\n",
        "\n",
        "Finally, let's save and commit our work"
      ]
    },
    {
      "cell_type": "code",
      "metadata": {
        "id": "3KO_iScNBkEK",
        "scrolled": false,
        "outputId": "553d51eb-5c6e-419e-c415-bab32c5df13c",
        "colab": {
          "base_uri": "https://localhost:8080/",
          "height": 86
        }
      },
      "source": [
        "import jovian\n",
        "jovian.commit(project=project_name)"
      ],
      "execution_count": 70,
      "outputs": [
        {
          "output_type": "stream",
          "text": [
            "[jovian] Detected Colab notebook...\u001b[0m\n",
            "[jovian] Uploading colab notebook to Jovian...\u001b[0m\n",
            "[jovian] Committed successfully! https://jovian.ml/santosh0236/indian-premier-league-stats-and-analysis\u001b[0m\n"
          ],
          "name": "stdout"
        },
        {
          "output_type": "execute_result",
          "data": {
            "application/vnd.google.colaboratory.intrinsic+json": {
              "type": "string"
            },
            "text/plain": [
              "'https://jovian.ml/santosh0236/indian-premier-league-stats-and-analysis'"
            ]
          },
          "metadata": {
            "tags": []
          },
          "execution_count": 70
        }
      ]
    },
    {
      "cell_type": "markdown",
      "metadata": {
        "id": "4ibijBglBkEW"
      },
      "source": [
        "## References and Future Work\n",
        "\n",
        "Data set downloaded from - https://www.kaggle.com/ramjidoolla/ipl-data-set\n",
        "\n",
        "Pandas user guide: https://pandas.pydata.org/docs/user_guide/index.html\n",
        "\n",
        "Matplotlib user guide: https://matplotlib.org/3.3.1/users/index.html\n",
        "\n",
        "Seaborn user guide & tutorial: https://seaborn.pydata.org/tutorial.html\n",
        "\n",
        "External Reference Cricket related: \n",
        "\n",
        "- https://www.iplt20.com/\n",
        "\n",
        "- https://www.espncricinfo.com/\n",
        "\n",
        "I have choosen this data for analysing the individual performance, Team performance and some other interesting facts as well. I explore many thing but still many areas are pending which need to be explore more deeply and then we can answer some more and more interesting question like this: \n",
        "\n",
        "- **Winning impact on Toss winner (is Toss winner has higher chance of winning?)**\n",
        "\n",
        "- **Most successful Team (Win Count and Win%)**\n",
        "\n",
        "- **Best Team at Home ground and at opponent's Ground.**\n",
        "\n",
        "- **Which Team is having the highest average batting Score.**"
      ]
    },
    {
      "cell_type": "code",
      "metadata": {
        "id": "gg0TFvCpBkEq",
        "outputId": "69601edc-a3fa-4b38-f03d-eccad1fed50a",
        "colab": {
          "base_uri": "https://localhost:8080/",
          "height": 86
        }
      },
      "source": [
        "import jovian\n",
        "jovian.commit(project=project_name)"
      ],
      "execution_count": 71,
      "outputs": [
        {
          "output_type": "stream",
          "text": [
            "[jovian] Detected Colab notebook...\u001b[0m\n",
            "[jovian] Uploading colab notebook to Jovian...\u001b[0m\n",
            "[jovian] Committed successfully! https://jovian.ml/santosh0236/indian-premier-league-stats-and-analysis\u001b[0m\n"
          ],
          "name": "stdout"
        },
        {
          "output_type": "execute_result",
          "data": {
            "application/vnd.google.colaboratory.intrinsic+json": {
              "type": "string"
            },
            "text/plain": [
              "'https://jovian.ml/santosh0236/indian-premier-league-stats-and-analysis'"
            ]
          },
          "metadata": {
            "tags": []
          },
          "execution_count": 71
        }
      ]
    },
    {
      "cell_type": "code",
      "metadata": {
        "id": "uiCtBZFylV3v"
      },
      "source": [
        ""
      ],
      "execution_count": 71,
      "outputs": []
    }
  ]
}